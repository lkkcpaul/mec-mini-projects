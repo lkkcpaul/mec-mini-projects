{
 "cells": [
  {
   "cell_type": "markdown",
   "metadata": {
    "colab_type": "text",
    "id": "KkqlbEEvsHuw"
   },
   "source": [
    "# Recommendation Systems"
   ]
  },
  {
   "cell_type": "markdown",
   "metadata": {
    "colab_type": "text",
    "id": "JXCjew2ItepU"
   },
   "source": [
    "Companies like Amazon(books, items), Netflix(movies), Google(News,Search), and Pandora/Spotify(music) leverage recommendation systems to help users discover new and relevant items (products, videos, jobs, music), creating a delightful user experience while driving incremental revenue. \n",
    "\n",
    "The need to build robust recommendation systems is extremely important given the huge demand for personalized content of modern consumers.\n"
   ]
  },
  {
   "cell_type": "markdown",
   "metadata": {
    "colab_type": "text",
    "id": "_lc420j2uhwZ"
   },
   "source": [
    "In this assignment, you will be applying your learning of recommendation systems in this Unit towards building the following four different types of recommendation systems:\n",
    "\n",
    "1.   Global Recommendation Systems (Statistical)   \n",
    "2.   Content-based Recommendation Systems\n",
    "3.   Collaborative Filtering (User-Item) Recommendation Systems\n",
    "4.   Hybrid Recommendation Systems\n",
    "\n",
    "The focus of the mini-project here would be to build a movie recommendation system.\n"
   ]
  },
  {
   "cell_type": "markdown",
   "metadata": {
    "colab_type": "text",
    "id": "CL3nuM_Kv17_"
   },
   "source": [
    "## 1. Dataset Acquisition\n",
    "\n",
    "Following are the key descriptions of the datasets you will be using. The data used here has been compiled from various movie datasets like Netflix and IMDb.\n",
    "\n",
    "1. __Filename: `movie_titles.csv`:__\n",
    "\n",
    "  - __`MovieID`__: MovieID does not correspond to actual Netflix movie ids or IMDB movie ids\n",
    "  - __`YearOfRelease`__: YearOfRelease can range from 1890 to 2005 and may correspond to the release of corresponding DVD, not necessarily its theaterical release\n",
    "  - __`Title`__: Title is the Netflix movie title and may not correspond to titles used on other sites. Titles are in English\n",
    "\n",
    "\n",
    "2. __Combined User-Ratings Dataset Description - `combined_data.csv`:__\n",
    "\n",
    "  - The first line of the contains the movie id followed by a colon.    \n",
    "  - Each subsequent line in the file corresponds to a rating from a customer and its date in the following format:\n",
    "\n",
    "    - MovieIDs range from 1 to 17770 sequentially.\n",
    "    - CustomerIDs range from 1 to 2649429, with gaps. There are 480189 users. \n",
    "    - Ratings are on a five star (integral) scale from 1 to 5.\n",
    "    - Dates have the format YYYY-MM-DD.\n",
    "\n",
    "\n",
    "3. __Filename: `movies_metadata.csv`__\n",
    "\n",
    "The main Movies Metadata file. Contains information on 45,000 movies featured in the Full MovieLens dataset. Features include posters, backdrops, budget, revenue, release dates, languages, production countries and companies.\n"
   ]
  },
  {
   "cell_type": "markdown",
   "metadata": {
    "colab_type": "text",
    "id": "aaic3a2Cw0T5"
   },
   "source": [
    "## 2: Import Necessary Dependencies\n",
    "\n",
    "We will be leveraging __`keras`__ on top of __`tensorflow`__ for building some of the collaborative filtering and hybrid models. There are compatibility issues with handling sparse layers with dense layers till now in TensorFlow 2 hence we are leveraging native Keras but in the long run once this issue is resolved we can leverage __`tf.keras`__ with minimal code updates."
   ]
  },
  {
   "cell_type": "code",
   "execution_count": 1,
   "metadata": {
    "colab": {},
    "colab_type": "code",
    "id": "iX9t8rYaxVGh"
   },
   "outputs": [],
   "source": [
    "# filter out unncessary warnings\n",
    "import warnings\n",
    "warnings.filterwarnings('ignore')"
   ]
  },
  {
   "cell_type": "code",
   "execution_count": 5,
   "metadata": {
    "colab": {
     "base_uri": "https://localhost:8080/",
     "height": 79
    },
    "colab_type": "code",
    "id": "JGWCPwAiP7vv",
    "outputId": "a0320c9e-dfa3-49e3-bf35-2095bce263d8"
   },
   "outputs": [],
   "source": [
    "# To store\\load the data\n",
    "import pandas as pd\n",
    "\n",
    "# To do linear algebra\n",
    "import numpy as np\n",
    "\n",
    "# To create plots\n",
    "import matplotlib.pyplot as plt\n",
    "import seaborn as sns\n",
    "\n",
    "\n",
    "# To compute similarities between vectors\n",
    "from sklearn.metrics import mean_squared_error\n",
    "from sklearn.metrics.pairwise import cosine_similarity\n",
    "from sklearn.feature_extraction.text import TfidfVectorizer\n",
    "\n",
    "# data load progress bars\n",
    "from tqdm import tqdm\n",
    "\n",
    "from collections import deque\n",
    "\n",
    "# To create deep learning models\n",
    "import tensorflow as tf\n",
    "import keras\n",
    "from keras.layers import Input, Embedding, Reshape, Dot, Concatenate, Dense, Dropout\n",
    "from keras.models import Model\n",
    "\n",
    "# To stack sparse matrices\n",
    "from scipy.sparse import vstack"
   ]
  },
  {
   "cell_type": "code",
   "execution_count": 6,
   "metadata": {
    "colab": {},
    "colab_type": "code",
    "id": "whZc1FgzyPyY"
   },
   "outputs": [],
   "source": [
    "# remove unnecessary TF logs\n",
    "import logging\n",
    "tf.get_logger().setLevel(logging.ERROR)"
   ]
  },
  {
   "cell_type": "code",
   "execution_count": 7,
   "metadata": {
    "colab": {
     "base_uri": "https://localhost:8080/",
     "height": 50
    },
    "colab_type": "code",
    "id": "Ce2tjPHPzWFd",
    "outputId": "f69dceec-26bc-44a3-b47c-5615a02ded51"
   },
   "outputs": [
    {
     "name": "stdout",
     "output_type": "stream",
     "text": [
      "TF Version: 2.3.0\n",
      "Keras Version: 2.4.3\n"
     ]
    }
   ],
   "source": [
    "# check keras and TF version used\n",
    "print('TF Version:', tf.__version__)\n",
    "print('Keras Version:', keras.__version__)\n",
    "# TF Version: 1.15.0\n",
    "# Keras Version: 2.2.5"
   ]
  },
  {
   "cell_type": "markdown",
   "metadata": {
    "colab_type": "text",
    "id": "lXXYudDD0Coy"
   },
   "source": [
    "Let's start loading data that will be used for building the recommendation systems"
   ]
  },
  {
   "cell_type": "markdown",
   "metadata": {
    "colab_type": "text",
    "id": "6FJZmUvExOYt"
   },
   "source": [
    "# 3. Load Datasets"
   ]
  },
  {
   "cell_type": "markdown",
   "metadata": {
    "colab_type": "text",
    "id": "AnAU78S7xz-H"
   },
   "source": [
    "## 3.1: Load Movie Metadata Datasets\n",
    "\n",
    "First, we will load the movie_titles.csv data from the Netflix prize data source"
   ]
  },
  {
   "cell_type": "code",
   "execution_count": 8,
   "metadata": {
    "colab": {
     "base_uri": "https://localhost:8080/",
     "height": 242
    },
    "colab_type": "code",
    "id": "tgD9whbBfcWW",
    "outputId": "4b9b02d5-13bf-4d4b-a684-2bf9420fa4da"
   },
   "outputs": [
    {
     "name": "stdout",
     "output_type": "stream",
     "text": [
      "Shape Movie-Titles:\t(17770, 2)\n"
     ]
    },
    {
     "data": {
      "text/html": [
       "<div>\n",
       "<style scoped>\n",
       "    .dataframe tbody tr th:only-of-type {\n",
       "        vertical-align: middle;\n",
       "    }\n",
       "\n",
       "    .dataframe tbody tr th {\n",
       "        vertical-align: top;\n",
       "    }\n",
       "\n",
       "    .dataframe thead th {\n",
       "        text-align: right;\n",
       "    }\n",
       "</style>\n",
       "<table border=\"1\" class=\"dataframe\">\n",
       "  <thead>\n",
       "    <tr style=\"text-align: right;\">\n",
       "      <th></th>\n",
       "      <th>Year</th>\n",
       "      <th>Name</th>\n",
       "    </tr>\n",
       "    <tr>\n",
       "      <th>Id</th>\n",
       "      <th></th>\n",
       "      <th></th>\n",
       "    </tr>\n",
       "  </thead>\n",
       "  <tbody>\n",
       "    <tr>\n",
       "      <th>4759</th>\n",
       "      <td>1999.0</td>\n",
       "      <td>Memento Mori</td>\n",
       "    </tr>\n",
       "    <tr>\n",
       "      <th>5208</th>\n",
       "      <td>2000.0</td>\n",
       "      <td>Hard Core Logo</td>\n",
       "    </tr>\n",
       "    <tr>\n",
       "      <th>16294</th>\n",
       "      <td>2003.0</td>\n",
       "      <td>Munna Bhai</td>\n",
       "    </tr>\n",
       "    <tr>\n",
       "      <th>1753</th>\n",
       "      <td>2004.0</td>\n",
       "      <td>Making Marines</td>\n",
       "    </tr>\n",
       "    <tr>\n",
       "      <th>12994</th>\n",
       "      <td>1998.0</td>\n",
       "      <td>One Tough Cop</td>\n",
       "    </tr>\n",
       "  </tbody>\n",
       "</table>\n",
       "</div>"
      ],
      "text/plain": [
       "         Year            Name\n",
       "Id                           \n",
       "4759   1999.0    Memento Mori\n",
       "5208   2000.0  Hard Core Logo\n",
       "16294  2003.0      Munna Bhai\n",
       "1753   2004.0  Making Marines\n",
       "12994  1998.0   One Tough Cop"
      ]
     },
     "execution_count": 8,
     "metadata": {},
     "output_type": "execute_result"
    }
   ],
   "source": [
    "# Load data for all movies\n",
    "movie_titles = pd.read_csv('./data/movie_titles.csv.zip', \n",
    "                           encoding = 'ISO-8859-1', \n",
    "                           header = None, \n",
    "                           names = ['Id', 'Year', 'Name']).set_index('Id')\n",
    "\n",
    "print('Shape Movie-Titles:\\t{}'.format(movie_titles.shape))\n",
    "movie_titles.sample(5)"
   ]
  },
  {
   "cell_type": "markdown",
   "metadata": {
    "colab_type": "text",
    "id": "SYafEzcYxa09"
   },
   "source": [
    "There are approximately 18000 movies in the ratings dataset and the metadata information includes the year of release and movie title"
   ]
  },
  {
   "cell_type": "markdown",
   "metadata": {
    "colab_type": "text",
    "id": "aE4QaObcyAup"
   },
   "source": [
    "Next, we will load the movie_metadata.csv from The movies dataset source. This is to get the metadata information like description etc. related to each movie."
   ]
  },
  {
   "cell_type": "code",
   "execution_count": 9,
   "metadata": {
    "colab": {
     "base_uri": "https://localhost:8080/",
     "height": 242
    },
    "colab_type": "code",
    "id": "WWig4ePBqGSD",
    "outputId": "3dff280d-bb3e-4701-b0fb-ced2eecbee1b"
   },
   "outputs": [
    {
     "name": "stdout",
     "output_type": "stream",
     "text": [
      "Shape Movie-Metadata:\t(21604, 1)\n"
     ]
    },
    {
     "data": {
      "text/html": [
       "<div>\n",
       "<style scoped>\n",
       "    .dataframe tbody tr th:only-of-type {\n",
       "        vertical-align: middle;\n",
       "    }\n",
       "\n",
       "    .dataframe tbody tr th {\n",
       "        vertical-align: top;\n",
       "    }\n",
       "\n",
       "    .dataframe thead th {\n",
       "        text-align: right;\n",
       "    }\n",
       "</style>\n",
       "<table border=\"1\" class=\"dataframe\">\n",
       "  <thead>\n",
       "    <tr style=\"text-align: right;\">\n",
       "      <th></th>\n",
       "      <th>overview</th>\n",
       "    </tr>\n",
       "    <tr>\n",
       "      <th>original_title</th>\n",
       "      <th></th>\n",
       "    </tr>\n",
       "  </thead>\n",
       "  <tbody>\n",
       "    <tr>\n",
       "      <th>Summer Catch</th>\n",
       "      <td>A coming-of-age romantic comedy set against th...</td>\n",
       "    </tr>\n",
       "    <tr>\n",
       "      <th>Deadly Virtues: Love. Honour. Obey.</th>\n",
       "      <td>A home invasion irrevocably changes the lives ...</td>\n",
       "    </tr>\n",
       "    <tr>\n",
       "      <th>The Guard</th>\n",
       "      <td>Two policemen must join forces to take on an i...</td>\n",
       "    </tr>\n",
       "    <tr>\n",
       "      <th>The Little Rascals</th>\n",
       "      <td>Spanky, Alfalfa, Buckwheat, and the other char...</td>\n",
       "    </tr>\n",
       "    <tr>\n",
       "      <th>Salon Kitty</th>\n",
       "      <td>Kitty runs a brothel in Nazi Germany where the...</td>\n",
       "    </tr>\n",
       "  </tbody>\n",
       "</table>\n",
       "</div>"
      ],
      "text/plain": [
       "                                                                              overview\n",
       "original_title                                                                        \n",
       "Summer Catch                         A coming-of-age romantic comedy set against th...\n",
       "Deadly Virtues: Love. Honour. Obey.  A home invasion irrevocably changes the lives ...\n",
       "The Guard                            Two policemen must join forces to take on an i...\n",
       "The Little Rascals                   Spanky, Alfalfa, Buckwheat, and the other char...\n",
       "Salon Kitty                          Kitty runs a brothel in Nazi Germany where the..."
      ]
     },
     "execution_count": 9,
     "metadata": {},
     "output_type": "execute_result"
    }
   ],
   "source": [
    "# Load a movie metadata dataset\n",
    "movie_metadata = (pd.read_csv('./data/movies_metadata.csv.zip', \n",
    "                              low_memory=False)[['original_title', 'overview', 'vote_count']]\n",
    "                    .set_index('original_title')\n",
    "                    .dropna())\n",
    "\n",
    "# Remove the long tail of rarly rated moves\n",
    "movie_metadata = movie_metadata[movie_metadata['vote_count']>10].drop('vote_count', axis=1)\n",
    "\n",
    "print('Shape Movie-Metadata:\\t{}'.format(movie_metadata.shape))\n",
    "movie_metadata.sample(5)"
   ]
  },
  {
   "cell_type": "markdown",
   "metadata": {
    "colab_type": "text",
    "id": "dElmRUSWyYoh"
   },
   "source": [
    "Around 21,000 entries in the movies metadata dataset"
   ]
  },
  {
   "cell_type": "markdown",
   "metadata": {
    "colab_type": "text",
    "id": "XJ3cHW1eyhwR"
   },
   "source": [
    "## 3.2: Load User-Movie-Rating Dataset"
   ]
  },
  {
   "cell_type": "code",
   "execution_count": 10,
   "metadata": {},
   "outputs": [
    {
     "name": "stdout",
     "output_type": "stream",
     "text": [
      "Collecting gdown\n",
      "  Downloading gdown-4.7.1-py3-none-any.whl (15 kB)\n",
      "Requirement already satisfied: requests[socks] in c:\\users\\lkkcp\\anaconda3\\envs\\mec-miniprojects\\lib\\site-packages (from gdown) (2.28.1)\n",
      "Requirement already satisfied: six in c:\\users\\lkkcp\\anaconda3\\envs\\mec-miniprojects\\lib\\site-packages (from gdown) (1.16.0)\n",
      "Requirement already satisfied: beautifulsoup4 in c:\\users\\lkkcp\\anaconda3\\envs\\mec-miniprojects\\lib\\site-packages (from gdown) (4.11.1)\n",
      "Collecting filelock\n",
      "  Using cached filelock-3.12.0-py3-none-any.whl (10 kB)\n",
      "Requirement already satisfied: tqdm in c:\\users\\lkkcp\\anaconda3\\envs\\mec-miniprojects\\lib\\site-packages (from gdown) (4.64.1)\n",
      "Requirement already satisfied: soupsieve>1.2 in c:\\users\\lkkcp\\anaconda3\\envs\\mec-miniprojects\\lib\\site-packages (from beautifulsoup4->gdown) (2.3.2.post1)\n",
      "Requirement already satisfied: charset-normalizer<3,>=2 in c:\\users\\lkkcp\\anaconda3\\envs\\mec-miniprojects\\lib\\site-packages (from requests[socks]->gdown) (2.0.4)\n",
      "Requirement already satisfied: certifi>=2017.4.17 in c:\\users\\lkkcp\\anaconda3\\envs\\mec-miniprojects\\lib\\site-packages (from requests[socks]->gdown) (2022.12.7)\n",
      "Requirement already satisfied: urllib3<1.27,>=1.21.1 in c:\\users\\lkkcp\\anaconda3\\envs\\mec-miniprojects\\lib\\site-packages (from requests[socks]->gdown) (1.26.14)\n",
      "Requirement already satisfied: idna<4,>=2.5 in c:\\users\\lkkcp\\anaconda3\\envs\\mec-miniprojects\\lib\\site-packages (from requests[socks]->gdown) (3.4)\n",
      "Requirement already satisfied: PySocks!=1.5.7,>=1.5.6 in c:\\users\\lkkcp\\anaconda3\\envs\\mec-miniprojects\\lib\\site-packages (from requests[socks]->gdown) (1.7.1)\n",
      "Requirement already satisfied: colorama in c:\\users\\lkkcp\\anaconda3\\envs\\mec-miniprojects\\lib\\site-packages (from tqdm->gdown) (0.4.6)\n",
      "Installing collected packages: filelock, gdown\n",
      "Successfully installed filelock-3.12.0 gdown-4.7.1\n"
     ]
    },
    {
     "name": "stderr",
     "output_type": "stream",
     "text": [
      "Downloading...\n",
      "From (uriginal): https://drive.google.com/uc?export=download&id=1z0O0fXuofdsbpL8fkCVgjeIwFP_LxGX2\n",
      "From (redirected): https://drive.google.com/uc?export=download&id=1z0O0fXuofdsbpL8fkCVgjeIwFP_LxGX2&confirm=t&uuid=3db06c74-9a6b-4726-8d1c-9707411f8a5a\n",
      "To: C:\\Users\\lkkcp\\PycharmProjects\\mec-mini-projects\\mec-17.4.1-recommendation-systems-mini-project\\data\n",
      "\n",
      "  0%|          | 0.00/161M [00:00<?, ?B/s]\n",
      "  1%|          | 1.57M/161M [00:00<00:11, 14.4MB/s]\n",
      "  3%|2         | 4.72M/161M [00:00<00:07, 21.0MB/s]\n",
      "  6%|5         | 8.91M/161M [00:00<00:08, 19.0MB/s]\n",
      "  7%|7         | 12.1M/161M [00:00<00:09, 16.1MB/s]\n",
      " 11%|#         | 17.3M/161M [00:00<00:06, 23.5MB/s]\n",
      " 13%|#2        | 20.4M/161M [00:01<00:06, 20.3MB/s]\n",
      " 16%|#5        | 25.7M/161M [00:01<00:06, 21.5MB/s]\n",
      " 20%|#9        | 31.5M/161M [00:01<00:04, 27.7MB/s]\n",
      " 22%|##1       | 35.1M/161M [00:01<00:05, 24.9MB/s]\n",
      " 26%|##5       | 41.4M/161M [00:01<00:03, 31.9MB/s]\n",
      " 28%|##8       | 45.6M/161M [00:02<00:06, 17.5MB/s]\n",
      " 32%|###1      | 50.9M/161M [00:02<00:05, 18.7MB/s]\n",
      " 34%|###4      | 55.6M/161M [00:02<00:04, 22.5MB/s]\n",
      " 37%|###6      | 59.2M/161M [00:02<00:05, 19.9MB/s]\n",
      " 40%|###9      | 64.5M/161M [00:02<00:03, 24.4MB/s]\n",
      " 43%|####2     | 68.7M/161M [00:03<00:03, 27.2MB/s]\n",
      " 46%|####6     | 74.4M/161M [00:03<00:02, 33.2MB/s]\n",
      " 49%|####8     | 78.6M/161M [00:03<00:02, 32.5MB/s]\n",
      " 52%|#####2    | 84.4M/161M [00:03<00:02, 30.9MB/s]\n",
      " 56%|#####6    | 90.7M/161M [00:03<00:01, 36.5MB/s]\n",
      " 59%|#####8    | 94.9M/161M [00:03<00:02, 26.2MB/s]\n",
      " 62%|######2   | 100M/161M [00:03<00:01, 31.0MB/s] \n",
      " 65%|######4   | 104M/161M [00:04<00:02, 24.2MB/s]\n",
      " 68%|######7   | 110M/161M [00:04<00:02, 25.5MB/s]\n",
      " 71%|#######1  | 115M/161M [00:04<00:01, 30.1MB/s]\n",
      " 73%|#######3  | 118M/161M [00:04<00:01, 31.0MB/s]\n",
      " 76%|#######6  | 123M/161M [00:04<00:01, 34.2MB/s]\n",
      " 79%|#######9  | 127M/161M [00:04<00:01, 31.4MB/s]\n",
      " 83%|########2 | 134M/161M [00:05<00:00, 38.0MB/s]\n",
      " 86%|########5 | 138M/161M [00:05<00:01, 19.8MB/s]\n",
      " 89%|########8 | 143M/161M [00:05<00:00, 21.6MB/s]\n",
      " 92%|#########2| 148M/161M [00:05<00:00, 26.3MB/s]\n",
      " 94%|#########4| 152M/161M [00:06<00:00, 23.2MB/s]\n",
      " 98%|#########7| 157M/161M [00:06<00:00, 27.4MB/s]\n",
      "100%|##########| 161M/161M [00:06<00:00, 25.9MB/s]\n",
      "Destination path 'data/1_n4xgehtmp' already exists\n"
     ]
    }
   ],
   "source": [
    "# Dowload large file from the shared GDrive folder\n",
    "!pip install gdown\n",
    "!gdown \"https://drive.google.com/uc?export=download&id=1z0O0fXuofdsbpL8fkCVgjeIwFP_LxGX2\" -O data/\n"
   ]
  },
  {
   "cell_type": "code",
   "execution_count": 12,
   "metadata": {
    "colab": {
     "base_uri": "https://localhost:8080/",
     "height": 360
    },
    "colab_type": "code",
    "id": "4s_qbrIhqW31",
    "outputId": "b9505c13-e21e-4cf2-837d-5410394b7655"
   },
   "outputs": [
    {
     "name": "stdout",
     "output_type": "stream",
     "text": [
      "Shape User-Ratings:\t(24053764, 4)\n"
     ]
    },
    {
     "data": {
      "text/html": [
       "<div>\n",
       "<style scoped>\n",
       "    .dataframe tbody tr th:only-of-type {\n",
       "        vertical-align: middle;\n",
       "    }\n",
       "\n",
       "    .dataframe tbody tr th {\n",
       "        vertical-align: top;\n",
       "    }\n",
       "\n",
       "    .dataframe thead th {\n",
       "        text-align: right;\n",
       "    }\n",
       "</style>\n",
       "<table border=\"1\" class=\"dataframe\">\n",
       "  <thead>\n",
       "    <tr style=\"text-align: right;\">\n",
       "      <th></th>\n",
       "      <th>User</th>\n",
       "      <th>Rating</th>\n",
       "      <th>Date</th>\n",
       "      <th>Movie</th>\n",
       "    </tr>\n",
       "  </thead>\n",
       "  <tbody>\n",
       "    <tr>\n",
       "      <th>1510021</th>\n",
       "      <td>527501</td>\n",
       "      <td>4.0</td>\n",
       "      <td>2005-02-01</td>\n",
       "      <td>312</td>\n",
       "    </tr>\n",
       "    <tr>\n",
       "      <th>2485807</th>\n",
       "      <td>564449</td>\n",
       "      <td>4.0</td>\n",
       "      <td>2005-03-25</td>\n",
       "      <td>457</td>\n",
       "    </tr>\n",
       "    <tr>\n",
       "      <th>16980524</th>\n",
       "      <td>2444999</td>\n",
       "      <td>4.0</td>\n",
       "      <td>2005-04-20</td>\n",
       "      <td>3282</td>\n",
       "    </tr>\n",
       "    <tr>\n",
       "      <th>3148972</th>\n",
       "      <td>2145178</td>\n",
       "      <td>4.0</td>\n",
       "      <td>2003-08-17</td>\n",
       "      <td>571</td>\n",
       "    </tr>\n",
       "    <tr>\n",
       "      <th>12709232</th>\n",
       "      <td>452121</td>\n",
       "      <td>3.0</td>\n",
       "      <td>2005-06-12</td>\n",
       "      <td>2441</td>\n",
       "    </tr>\n",
       "    <tr>\n",
       "      <th>22878620</th>\n",
       "      <td>131892</td>\n",
       "      <td>4.0</td>\n",
       "      <td>2005-12-03</td>\n",
       "      <td>4315</td>\n",
       "    </tr>\n",
       "    <tr>\n",
       "      <th>1591623</th>\n",
       "      <td>7613</td>\n",
       "      <td>5.0</td>\n",
       "      <td>2005-10-13</td>\n",
       "      <td>313</td>\n",
       "    </tr>\n",
       "    <tr>\n",
       "      <th>10704000</th>\n",
       "      <td>1003617</td>\n",
       "      <td>5.0</td>\n",
       "      <td>2004-01-16</td>\n",
       "      <td>2109</td>\n",
       "    </tr>\n",
       "    <tr>\n",
       "      <th>5034269</th>\n",
       "      <td>1880039</td>\n",
       "      <td>1.0</td>\n",
       "      <td>2004-01-18</td>\n",
       "      <td>1012</td>\n",
       "    </tr>\n",
       "    <tr>\n",
       "      <th>15923008</th>\n",
       "      <td>175961</td>\n",
       "      <td>2.0</td>\n",
       "      <td>2004-08-30</td>\n",
       "      <td>3106</td>\n",
       "    </tr>\n",
       "  </tbody>\n",
       "</table>\n",
       "</div>"
      ],
      "text/plain": [
       "             User  Rating        Date  Movie\n",
       "1510021    527501     4.0  2005-02-01    312\n",
       "2485807    564449     4.0  2005-03-25    457\n",
       "16980524  2444999     4.0  2005-04-20   3282\n",
       "3148972   2145178     4.0  2003-08-17    571\n",
       "12709232   452121     3.0  2005-06-12   2441\n",
       "22878620   131892     4.0  2005-12-03   4315\n",
       "1591623      7613     5.0  2005-10-13    313\n",
       "10704000  1003617     5.0  2004-01-16   2109\n",
       "5034269   1880039     1.0  2004-01-18   1012\n",
       "15923008   175961     2.0  2004-08-30   3106"
      ]
     },
     "execution_count": 12,
     "metadata": {},
     "output_type": "execute_result"
    }
   ],
   "source": [
    "# Load single data-file\n",
    "df_raw = pd.read_csv('./data/combined_data.csv.zip', \n",
    "                     header=None, \n",
    "                     names=['User', 'Rating', 'Date'], \n",
    "                     usecols=[0, 1, 2])\n",
    "\n",
    "# Find empty rows to slice dataframe for each movie\n",
    "tmp_movies = df_raw[df_raw['Rating'].isna()]['User'].reset_index()\n",
    "movie_indices = [[index, int(movie[:-1])] for index, movie in tmp_movies.values]\n",
    "\n",
    "# Shift the movie_indices by one to get start and endpoints of all movies\n",
    "shifted_movie_indices = deque(movie_indices)\n",
    "shifted_movie_indices.rotate(-1)\n",
    "\n",
    "# Gather all dataframes\n",
    "user_data = []\n",
    "\n",
    "# Iterate over all movies\n",
    "for [df_id_1, movie_id], [df_id_2, next_movie_id] in zip(movie_indices, shifted_movie_indices):\n",
    "    \n",
    "    # Check if it is the last movie in the file\n",
    "    if df_id_1<df_id_2:\n",
    "        tmp_df = df_raw.loc[df_id_1+1:df_id_2-1].copy()\n",
    "    else:\n",
    "        tmp_df = df_raw.loc[df_id_1+1:].copy()\n",
    "        \n",
    "    # Create movie_id column\n",
    "    tmp_df['Movie'] = movie_id\n",
    "    \n",
    "    # Append dataframe to list\n",
    "    user_data.append(tmp_df)\n",
    "\n",
    "# Combine all dataframes\n",
    "df = pd.concat(user_data)\n",
    "del user_data, df_raw, tmp_movies, tmp_df, shifted_movie_indices, movie_indices, df_id_1, movie_id, df_id_2, next_movie_id\n",
    "print('Shape User-Ratings:\\t{}'.format(df.shape))\n",
    "df.sample(10)"
   ]
  },
  {
   "cell_type": "markdown",
   "metadata": {
    "colab_type": "text",
    "id": "sg90OAW_zUwL"
   },
   "source": [
    "There are about 24 Million+ different rating records!"
   ]
  },
  {
   "cell_type": "markdown",
   "metadata": {
    "colab_type": "text",
    "id": "xKIrEduYz6gh"
   },
   "source": [
    "We have taken the data required for building the system and now let's do some EDA on the dataset to better understand our data"
   ]
  },
  {
   "cell_type": "markdown",
   "metadata": {
    "colab_type": "text",
    "id": "4wQzTRdm0tYg"
   },
   "source": [
    "# 4. Exploratory Data Analysis"
   ]
  },
  {
   "cell_type": "markdown",
   "metadata": {
    "colab_type": "text",
    "id": "KVaYGLc94aGm"
   },
   "source": [
    "## 4.1: When were the movies released?\n"
   ]
  },
  {
   "cell_type": "code",
   "execution_count": 14,
   "metadata": {
    "colab": {
     "base_uri": "https://localhost:8080/",
     "height": 374
    },
    "colab_type": "code",
    "id": "-iwB_2Cm24FL",
    "outputId": "b94a5226-9278-4579-e190-c8b20f2903c5"
   },
   "outputs": [
    {
     "data": {
      "image/png": "[encoded data removed]",
      "text/plain": [
       "<Figure size 1400x600 with 1 Axes>"
      ]
     },
     "metadata": {},
     "output_type": "display_data"
    }
   ],
   "source": [
    "fig, ax = plt.subplots(1, 1, figsize=(14, 6))\n",
    "\n",
    "data = movie_titles['Year'].value_counts().sort_index()\n",
    "x = data.index.map(int)\n",
    "y = data.values\n",
    "\n",
    "sns.barplot(x=x, y=y)\n",
    "xmin, xmax = plt.xlim()\n",
    "xtick_labels = [x[0]] + list(x[10:-10:10]) + [x[-1]]\n",
    "plt.xticks(ticks=np.linspace(xmin, xmax, 10), labels=xtick_labels);"
   ]
  },
  {
   "cell_type": "markdown",
   "metadata": {
    "colab_type": "text",
    "id": "lJ2mWAym5rBL"
   },
   "source": [
    "Many movies on Netflix have been released in this millennial. Whether Netflix prefers young movies or there are no old movies left can not be deduced from this plot.\n",
    "The decline for the rightmost point is probably caused by an incomplete last year."
   ]
  },
  {
   "cell_type": "markdown",
   "metadata": {
    "colab_type": "text",
    "id": "QACzcP3w4z6j"
   },
   "source": [
    "## Q 4.2: How are The Ratings Distributed?\n",
    "\n",
    "__Your Turn:__ Build the visualization for rating distributions similar to the previous plot.\n"
   ]
  },
  {
   "cell_type": "code",
   "execution_count": 15,
   "metadata": {
    "colab": {
     "base_uri": "https://localhost:8080/",
     "height": 385
    },
    "colab_type": "code",
    "id": "16Mvv0w124FP",
    "outputId": "b9643de6-3b43-4826-ef57-744fde784404"
   },
   "outputs": [
    {
     "data": {
      "text/plain": [
       "<AxesSubplot:>"
      ]
     },
     "execution_count": 15,
     "metadata": {},
     "output_type": "execute_result"
    },
    {
     "data": {
      "image/png": "[encoded data removed]",
      "text/plain": [
       "<Figure size 640x480 with 1 Axes>"
      ]
     },
     "metadata": {},
     "output_type": "display_data"
    }
   ],
   "source": [
    "rating_count = df.Rating.value_counts().sort_index()\n",
    "x = rating_count.index.map(int)\n",
    "y = rating_count.values\n",
    "sns.barplot(x=x,y=y)"
   ]
  },
  {
   "cell_type": "markdown",
   "metadata": {
    "colab_type": "text",
    "id": "Pn5uhmcu5xCE"
   },
   "source": [
    "Netflix movies rarely have a rating lower than three. Most ratings have between three and four stars.\n",
    "The distribution is probably biased, since only people liking the movies proceed to be customers and others presumably will leave the platform."
   ]
  },
  {
   "cell_type": "markdown",
   "metadata": {
    "colab_type": "text",
    "id": "PQwkKk935eRl"
   },
   "source": [
    "## 4.3: Visualize the Distribution of Number of Movie Ratings \n",
    "\n",
    "This is to understand how many movies (y-axis) are receiving specific number of movie ratings (x-axis)"
   ]
  },
  {
   "cell_type": "code",
   "execution_count": 16,
   "metadata": {
    "colab": {
     "base_uri": "https://localhost:8080/",
     "height": 388
    },
    "colab_type": "code",
    "id": "yatEt4eE24FS",
    "outputId": "ca1767f5-2bf8-407a-e232-26e44bac8d2d"
   },
   "outputs": [
    {
     "data": {
      "image/png": "[encoded data removed]",
      "text/plain": [
       "<Figure size 1400x600 with 2 Axes>"
      ]
     },
     "metadata": {},
     "output_type": "display_data"
    }
   ],
   "source": [
    "fig, ax = plt.subplots(1, 2, figsize=(14, 6))\n",
    "\n",
    "data = df.groupby('Movie')['Rating'].count()\n",
    "sns.distplot(data[data  < 10000], kde=False, ax=ax[0]);\n",
    "sns.distplot(data[data  > 10000], kde=False, ax=ax[1]);"
   ]
  },
  {
   "cell_type": "markdown",
   "metadata": {
    "colab_type": "text",
    "id": "lS5we5r4-nyV"
   },
   "source": [
    "## Q 4.4: Visualize the Distribution of Number of User Ratings \n",
    "\n",
    "This is to understand how many users (y-axis) are giving specific number of movie ratings (x-axis)\n",
    "\n",
    "__Your Turn:__ Try to find out an optimal threshold as in the previous example to split the data to form two understandable subplots!"
   ]
  },
  {
   "cell_type": "code",
   "execution_count": 21,
   "metadata": {
    "colab": {
     "base_uri": "https://localhost:8080/",
     "height": 388
    },
    "colab_type": "code",
    "id": "hf-Q6jP-24FV",
    "outputId": "8ff4752b-527c-476c-c417-3d5c63a89b99"
   },
   "outputs": [
    {
     "data": {
      "text/plain": [
       "<AxesSubplot:xlabel='Rating'>"
      ]
     },
     "execution_count": 21,
     "metadata": {},
     "output_type": "execute_result"
    },
    {
     "data": {
      "image/png": "[encoded data removed]",
      "text/plain": [
       "<Figure size 1400x600 with 2 Axes>"
      ]
     },
     "metadata": {},
     "output_type": "display_data"
    }
   ],
   "source": [
    "fig, ax = plt.subplots(1,2,figsize=(14,6))\n",
    "threshold = 500\n",
    "\n",
    "data = df.groupby('User')['Rating'].count()\n",
    "sns.distplot(data[data<threshold],kde=False,ax=ax[0])\n",
    "sns.distplot(data[data>=threshold],kde=False,ax=ax[1])"
   ]
  },
  {
   "cell_type": "markdown",
   "metadata": {
    "colab_type": "text",
    "id": "EMOY1tG75i24"
   },
   "source": [
    "The ratings per movie as well as the ratings per user both have nearly a perfect exponential decay. Only very few movies/users have many ratings."
   ]
  },
  {
   "cell_type": "markdown",
   "metadata": {
    "colab_type": "text",
    "id": "p5S7Q14L_CL1"
   },
   "source": [
    "# 5. Dimensionality Reduction & Filtering"
   ]
  },
  {
   "cell_type": "markdown",
   "metadata": {
    "colab_type": "text",
    "id": "h5YZwbcH7LzU"
   },
   "source": [
    "## Filter Sparse Movies And Users\n",
    "\n",
    "To reduce the dimensionality of the dataset I am filtering rarely rated movies and rarely rating users out.\n"
   ]
  },
  {
   "cell_type": "code",
   "execution_count": 22,
   "metadata": {
    "colab": {
     "base_uri": "https://localhost:8080/",
     "height": 50
    },
    "colab_type": "code",
    "id": "4nwtEkvSFFK5",
    "outputId": "44e339a2-a068-40d9-848f-619d56288676"
   },
   "outputs": [
    {
     "name": "stdout",
     "output_type": "stream",
     "text": [
      "Shape User-Ratings unfiltered:\t(24053764, 4)\n",
      "Shape User-Ratings filtered:\t(5930581, 4)\n"
     ]
    }
   ],
   "source": [
    "# Filter sparse movies\n",
    "min_movie_ratings = 1000\n",
    "filter_movies = (df['Movie'].value_counts()>min_movie_ratings)\n",
    "filter_movies = filter_movies[filter_movies].index.tolist()\n",
    "\n",
    "# Filter sparse users\n",
    "min_user_ratings = 200\n",
    "filter_users = (df['User'].value_counts()>min_user_ratings)\n",
    "filter_users = filter_users[filter_users].index.tolist()\n",
    "\n",
    "# Actual filtering\n",
    "df_filtered = df[(df['Movie'].isin(filter_movies)) & (df['User'].isin(filter_users))]\n",
    "del filter_movies, filter_users, min_movie_ratings, min_user_ratings\n",
    "print('Shape User-Ratings unfiltered:\\t{}'.format(df.shape))\n",
    "print('Shape User-Ratings filtered:\\t{}'.format(df_filtered.shape))"
   ]
  },
  {
   "cell_type": "markdown",
   "metadata": {
    "colab_type": "text",
    "id": "9GQ4JmM67TYQ"
   },
   "source": [
    "After filtering sparse movies and users about 5.9M rating records are present."
   ]
  },
  {
   "cell_type": "markdown",
   "metadata": {
    "colab_type": "text",
    "id": "EI1CoJP9_kbF"
   },
   "source": [
    "# 6. Create Train and Test Datasets\n",
    "\n",
    "Do note this will be used for the statistical method based models and collaborative filtering.\n",
    "\n",
    "For content based filtering it is more of a model which recommends movies rather than predicting ratings and for the hybrid model we will need to recreate the train and test datasets later since we need to create a subset of movies-users-ratings which have movie text descriptions."
   ]
  },
  {
   "cell_type": "markdown",
   "metadata": {
    "colab_type": "text",
    "id": "G7LX0sob7a2Z"
   },
   "source": [
    "## Create Train and Test datasets"
   ]
  },
  {
   "cell_type": "code",
   "execution_count": 23,
   "metadata": {
    "colab": {
     "base_uri": "https://localhost:8080/",
     "height": 34
    },
    "colab_type": "code",
    "id": "cyCrLAoFFHm4",
    "outputId": "e39e4020-3e5f-4ed7-803a-a8761ddce792"
   },
   "outputs": [
    {
     "data": {
      "text/plain": [
       "((5830581, 3), (100000, 3))"
      ]
     },
     "execution_count": 23,
     "metadata": {},
     "output_type": "execute_result"
    }
   ],
   "source": [
    "# Shuffle DataFrame\n",
    "df_filtered = df_filtered.drop('Date', axis=1).sample(frac=1).reset_index(drop=True)\n",
    "\n",
    "# Testingsize\n",
    "n = 100000\n",
    "\n",
    "# Split train- & testset\n",
    "df_train = df_filtered[:-n]\n",
    "df_test = df_filtered[-n:]\n",
    "df_train.shape, df_test.shape"
   ]
  },
  {
   "cell_type": "markdown",
   "metadata": {
    "colab_type": "text",
    "id": "JjQjPE9-76iP"
   },
   "source": [
    "The train set will be used to train all models and the test set ensures we can compare model performance on unseen data using the RMSE metric."
   ]
  },
  {
   "cell_type": "markdown",
   "metadata": {
    "colab_type": "text",
    "id": "ufn47cGh_wNC"
   },
   "source": [
    "# 7. Transformation"
   ]
  },
  {
   "cell_type": "markdown",
   "metadata": {
    "colab_type": "text",
    "id": "mWkzhX-a792R"
   },
   "source": [
    "### Q 7.1: Transform The User-Movie-Ratings Data Frame to User-Movie Matrix"
   ]
  },
  {
   "cell_type": "markdown",
   "metadata": {
    "colab_type": "text",
    "id": "qDeuv70i8NMQ"
   },
   "source": [
    "A large, sparse matrix will be created in this step. Each row will represent a user and its ratings and the columns are the movies.\n",
    "\n",
    "The movies already rated by users are the non-empty values in the matrix.\n",
    "\n",
    "Empty values are unrated movies and the main objective is to estimate the empty values to help our users.\n",
    "\n",
    "\n",
    "__Your turn:__ Create the User-Movie matrix leveraging the __`pivot_table()`__ function from pandas.\n",
    "\n",
    "Fill in the blanks in the code below by referencing the __`pivot_table()`__ function and invoking it on __`df_train`__. Feel free to check out the documentation.\n",
    "\n",
    "Remember, rows should be users, columns should be movies and the values in the matrix should be the movie ratings. All these should be available in the __`df_train`__ dataframe."
   ]
  },
  {
   "cell_type": "code",
   "execution_count": 24,
   "metadata": {
    "colab": {
     "base_uri": "https://localhost:8080/",
     "height": 438
    },
    "colab_type": "code",
    "id": "_ieAea92FJye",
    "outputId": "7a2dd65d-1af9-4300-c811-1f1d3f8e8f05"
   },
   "outputs": [
    {
     "name": "stdout",
     "output_type": "stream",
     "text": [
      "Shape User-Movie-Matrix:\t(20828, 1741)\n"
     ]
    },
    {
     "data": {
      "text/html": [
       "<div>\n",
       "<style scoped>\n",
       "    .dataframe tbody tr th:only-of-type {\n",
       "        vertical-align: middle;\n",
       "    }\n",
       "\n",
       "    .dataframe tbody tr th {\n",
       "        vertical-align: top;\n",
       "    }\n",
       "\n",
       "    .dataframe thead th {\n",
       "        text-align: right;\n",
       "    }\n",
       "</style>\n",
       "<table border=\"1\" class=\"dataframe\">\n",
       "  <thead>\n",
       "    <tr style=\"text-align: right;\">\n",
       "      <th>Movie</th>\n",
       "      <th>3</th>\n",
       "      <th>5</th>\n",
       "      <th>6</th>\n",
       "      <th>8</th>\n",
       "      <th>16</th>\n",
       "      <th>17</th>\n",
       "      <th>18</th>\n",
       "      <th>24</th>\n",
       "      <th>25</th>\n",
       "      <th>26</th>\n",
       "      <th>...</th>\n",
       "      <th>4482</th>\n",
       "      <th>4483</th>\n",
       "      <th>4484</th>\n",
       "      <th>4485</th>\n",
       "      <th>4488</th>\n",
       "      <th>4489</th>\n",
       "      <th>4490</th>\n",
       "      <th>4492</th>\n",
       "      <th>4493</th>\n",
       "      <th>4496</th>\n",
       "    </tr>\n",
       "    <tr>\n",
       "      <th>User</th>\n",
       "      <th></th>\n",
       "      <th></th>\n",
       "      <th></th>\n",
       "      <th></th>\n",
       "      <th></th>\n",
       "      <th></th>\n",
       "      <th></th>\n",
       "      <th></th>\n",
       "      <th></th>\n",
       "      <th></th>\n",
       "      <th></th>\n",
       "      <th></th>\n",
       "      <th></th>\n",
       "      <th></th>\n",
       "      <th></th>\n",
       "      <th></th>\n",
       "      <th></th>\n",
       "      <th></th>\n",
       "      <th></th>\n",
       "      <th></th>\n",
       "      <th></th>\n",
       "    </tr>\n",
       "  </thead>\n",
       "  <tbody>\n",
       "    <tr>\n",
       "      <th>1000079</th>\n",
       "      <td>NaN</td>\n",
       "      <td>NaN</td>\n",
       "      <td>NaN</td>\n",
       "      <td>NaN</td>\n",
       "      <td>NaN</td>\n",
       "      <td>NaN</td>\n",
       "      <td>NaN</td>\n",
       "      <td>NaN</td>\n",
       "      <td>NaN</td>\n",
       "      <td>NaN</td>\n",
       "      <td>...</td>\n",
       "      <td>NaN</td>\n",
       "      <td>NaN</td>\n",
       "      <td>NaN</td>\n",
       "      <td>NaN</td>\n",
       "      <td>2.0</td>\n",
       "      <td>NaN</td>\n",
       "      <td>NaN</td>\n",
       "      <td>NaN</td>\n",
       "      <td>NaN</td>\n",
       "      <td>NaN</td>\n",
       "    </tr>\n",
       "    <tr>\n",
       "      <th>1000192</th>\n",
       "      <td>NaN</td>\n",
       "      <td>NaN</td>\n",
       "      <td>NaN</td>\n",
       "      <td>NaN</td>\n",
       "      <td>NaN</td>\n",
       "      <td>NaN</td>\n",
       "      <td>NaN</td>\n",
       "      <td>NaN</td>\n",
       "      <td>NaN</td>\n",
       "      <td>NaN</td>\n",
       "      <td>...</td>\n",
       "      <td>NaN</td>\n",
       "      <td>NaN</td>\n",
       "      <td>NaN</td>\n",
       "      <td>NaN</td>\n",
       "      <td>NaN</td>\n",
       "      <td>NaN</td>\n",
       "      <td>NaN</td>\n",
       "      <td>NaN</td>\n",
       "      <td>NaN</td>\n",
       "      <td>NaN</td>\n",
       "    </tr>\n",
       "    <tr>\n",
       "      <th>1000301</th>\n",
       "      <td>NaN</td>\n",
       "      <td>NaN</td>\n",
       "      <td>NaN</td>\n",
       "      <td>NaN</td>\n",
       "      <td>NaN</td>\n",
       "      <td>NaN</td>\n",
       "      <td>4.0</td>\n",
       "      <td>NaN</td>\n",
       "      <td>NaN</td>\n",
       "      <td>NaN</td>\n",
       "      <td>...</td>\n",
       "      <td>NaN</td>\n",
       "      <td>NaN</td>\n",
       "      <td>NaN</td>\n",
       "      <td>NaN</td>\n",
       "      <td>4.0</td>\n",
       "      <td>NaN</td>\n",
       "      <td>NaN</td>\n",
       "      <td>NaN</td>\n",
       "      <td>NaN</td>\n",
       "      <td>NaN</td>\n",
       "    </tr>\n",
       "    <tr>\n",
       "      <th>1000387</th>\n",
       "      <td>NaN</td>\n",
       "      <td>NaN</td>\n",
       "      <td>NaN</td>\n",
       "      <td>NaN</td>\n",
       "      <td>NaN</td>\n",
       "      <td>NaN</td>\n",
       "      <td>NaN</td>\n",
       "      <td>NaN</td>\n",
       "      <td>NaN</td>\n",
       "      <td>NaN</td>\n",
       "      <td>...</td>\n",
       "      <td>NaN</td>\n",
       "      <td>NaN</td>\n",
       "      <td>NaN</td>\n",
       "      <td>1.0</td>\n",
       "      <td>2.0</td>\n",
       "      <td>NaN</td>\n",
       "      <td>NaN</td>\n",
       "      <td>1.0</td>\n",
       "      <td>NaN</td>\n",
       "      <td>NaN</td>\n",
       "    </tr>\n",
       "    <tr>\n",
       "      <th>1000410</th>\n",
       "      <td>NaN</td>\n",
       "      <td>NaN</td>\n",
       "      <td>NaN</td>\n",
       "      <td>NaN</td>\n",
       "      <td>NaN</td>\n",
       "      <td>NaN</td>\n",
       "      <td>4.0</td>\n",
       "      <td>NaN</td>\n",
       "      <td>NaN</td>\n",
       "      <td>NaN</td>\n",
       "      <td>...</td>\n",
       "      <td>NaN</td>\n",
       "      <td>NaN</td>\n",
       "      <td>NaN</td>\n",
       "      <td>NaN</td>\n",
       "      <td>3.0</td>\n",
       "      <td>NaN</td>\n",
       "      <td>3.0</td>\n",
       "      <td>NaN</td>\n",
       "      <td>NaN</td>\n",
       "      <td>3.0</td>\n",
       "    </tr>\n",
       "    <tr>\n",
       "      <th>1000527</th>\n",
       "      <td>NaN</td>\n",
       "      <td>NaN</td>\n",
       "      <td>NaN</td>\n",
       "      <td>NaN</td>\n",
       "      <td>NaN</td>\n",
       "      <td>NaN</td>\n",
       "      <td>NaN</td>\n",
       "      <td>NaN</td>\n",
       "      <td>NaN</td>\n",
       "      <td>NaN</td>\n",
       "      <td>...</td>\n",
       "      <td>NaN</td>\n",
       "      <td>NaN</td>\n",
       "      <td>NaN</td>\n",
       "      <td>NaN</td>\n",
       "      <td>NaN</td>\n",
       "      <td>NaN</td>\n",
       "      <td>NaN</td>\n",
       "      <td>NaN</td>\n",
       "      <td>3.0</td>\n",
       "      <td>NaN</td>\n",
       "    </tr>\n",
       "    <tr>\n",
       "      <th>1000596</th>\n",
       "      <td>NaN</td>\n",
       "      <td>NaN</td>\n",
       "      <td>NaN</td>\n",
       "      <td>NaN</td>\n",
       "      <td>NaN</td>\n",
       "      <td>NaN</td>\n",
       "      <td>NaN</td>\n",
       "      <td>2.0</td>\n",
       "      <td>NaN</td>\n",
       "      <td>NaN</td>\n",
       "      <td>...</td>\n",
       "      <td>NaN</td>\n",
       "      <td>NaN</td>\n",
       "      <td>NaN</td>\n",
       "      <td>NaN</td>\n",
       "      <td>NaN</td>\n",
       "      <td>NaN</td>\n",
       "      <td>NaN</td>\n",
       "      <td>NaN</td>\n",
       "      <td>NaN</td>\n",
       "      <td>NaN</td>\n",
       "    </tr>\n",
       "    <tr>\n",
       "      <th>1000634</th>\n",
       "      <td>NaN</td>\n",
       "      <td>NaN</td>\n",
       "      <td>NaN</td>\n",
       "      <td>NaN</td>\n",
       "      <td>3.0</td>\n",
       "      <td>NaN</td>\n",
       "      <td>NaN</td>\n",
       "      <td>NaN</td>\n",
       "      <td>NaN</td>\n",
       "      <td>NaN</td>\n",
       "      <td>...</td>\n",
       "      <td>NaN</td>\n",
       "      <td>NaN</td>\n",
       "      <td>NaN</td>\n",
       "      <td>NaN</td>\n",
       "      <td>4.0</td>\n",
       "      <td>NaN</td>\n",
       "      <td>NaN</td>\n",
       "      <td>4.0</td>\n",
       "      <td>NaN</td>\n",
       "      <td>NaN</td>\n",
       "    </tr>\n",
       "    <tr>\n",
       "      <th>1000710</th>\n",
       "      <td>NaN</td>\n",
       "      <td>NaN</td>\n",
       "      <td>NaN</td>\n",
       "      <td>NaN</td>\n",
       "      <td>NaN</td>\n",
       "      <td>NaN</td>\n",
       "      <td>NaN</td>\n",
       "      <td>NaN</td>\n",
       "      <td>NaN</td>\n",
       "      <td>NaN</td>\n",
       "      <td>...</td>\n",
       "      <td>NaN</td>\n",
       "      <td>NaN</td>\n",
       "      <td>NaN</td>\n",
       "      <td>NaN</td>\n",
       "      <td>NaN</td>\n",
       "      <td>NaN</td>\n",
       "      <td>NaN</td>\n",
       "      <td>NaN</td>\n",
       "      <td>NaN</td>\n",
       "      <td>NaN</td>\n",
       "    </tr>\n",
       "    <tr>\n",
       "      <th>1000779</th>\n",
       "      <td>NaN</td>\n",
       "      <td>NaN</td>\n",
       "      <td>NaN</td>\n",
       "      <td>NaN</td>\n",
       "      <td>NaN</td>\n",
       "      <td>NaN</td>\n",
       "      <td>NaN</td>\n",
       "      <td>NaN</td>\n",
       "      <td>NaN</td>\n",
       "      <td>NaN</td>\n",
       "      <td>...</td>\n",
       "      <td>NaN</td>\n",
       "      <td>NaN</td>\n",
       "      <td>NaN</td>\n",
       "      <td>NaN</td>\n",
       "      <td>NaN</td>\n",
       "      <td>NaN</td>\n",
       "      <td>NaN</td>\n",
       "      <td>NaN</td>\n",
       "      <td>NaN</td>\n",
       "      <td>4.0</td>\n",
       "    </tr>\n",
       "  </tbody>\n",
       "</table>\n",
       "<p>10 rows × 1741 columns</p>\n",
       "</div>"
      ],
      "text/plain": [
       "Movie    3     5     6     8     16    17    18    24    25    26    ...  \\\n",
       "User                                                                 ...   \n",
       "1000079   NaN   NaN   NaN   NaN   NaN   NaN   NaN   NaN   NaN   NaN  ...   \n",
       "1000192   NaN   NaN   NaN   NaN   NaN   NaN   NaN   NaN   NaN   NaN  ...   \n",
       "1000301   NaN   NaN   NaN   NaN   NaN   NaN   4.0   NaN   NaN   NaN  ...   \n",
       "1000387   NaN   NaN   NaN   NaN   NaN   NaN   NaN   NaN   NaN   NaN  ...   \n",
       "1000410   NaN   NaN   NaN   NaN   NaN   NaN   4.0   NaN   NaN   NaN  ...   \n",
       "1000527   NaN   NaN   NaN   NaN   NaN   NaN   NaN   NaN   NaN   NaN  ...   \n",
       "1000596   NaN   NaN   NaN   NaN   NaN   NaN   NaN   2.0   NaN   NaN  ...   \n",
       "1000634   NaN   NaN   NaN   NaN   3.0   NaN   NaN   NaN   NaN   NaN  ...   \n",
       "1000710   NaN   NaN   NaN   NaN   NaN   NaN   NaN   NaN   NaN   NaN  ...   \n",
       "1000779   NaN   NaN   NaN   NaN   NaN   NaN   NaN   NaN   NaN   NaN  ...   \n",
       "\n",
       "Movie    4482  4483  4484  4485  4488  4489  4490  4492  4493  4496  \n",
       "User                                                                 \n",
       "1000079   NaN   NaN   NaN   NaN   2.0   NaN   NaN   NaN   NaN   NaN  \n",
       "1000192   NaN   NaN   NaN   NaN   NaN   NaN   NaN   NaN   NaN   NaN  \n",
       "1000301   NaN   NaN   NaN   NaN   4.0   NaN   NaN   NaN   NaN   NaN  \n",
       "1000387   NaN   NaN   NaN   1.0   2.0   NaN   NaN   1.0   NaN   NaN  \n",
       "1000410   NaN   NaN   NaN   NaN   3.0   NaN   3.0   NaN   NaN   3.0  \n",
       "1000527   NaN   NaN   NaN   NaN   NaN   NaN   NaN   NaN   3.0   NaN  \n",
       "1000596   NaN   NaN   NaN   NaN   NaN   NaN   NaN   NaN   NaN   NaN  \n",
       "1000634   NaN   NaN   NaN   NaN   4.0   NaN   NaN   4.0   NaN   NaN  \n",
       "1000710   NaN   NaN   NaN   NaN   NaN   NaN   NaN   NaN   NaN   NaN  \n",
       "1000779   NaN   NaN   NaN   NaN   NaN   NaN   NaN   NaN   NaN   4.0  \n",
       "\n",
       "[10 rows x 1741 columns]"
      ]
     },
     "execution_count": 24,
     "metadata": {},
     "output_type": "execute_result"
    }
   ],
   "source": [
    "# Create a user-movie matrix with empty values\n",
    "df_p = pd.pivot_table(df_train,values='Rating',index='User',columns='Movie')\n",
    "print('Shape User-Movie-Matrix:\\t{}'.format(df_p.shape))\n",
    "df_p.head(10)"
   ]
  },
  {
   "cell_type": "markdown",
   "metadata": {
    "colab_type": "text",
    "id": "ojO2T5Ti_4TG"
   },
   "source": [
    "## 8. Building Recommendation Systems"
   ]
  },
  {
   "cell_type": "markdown",
   "metadata": {
    "colab_type": "text",
    "id": "cOrqqL3KDn9L"
   },
   "source": [
    "## 8.1(a): Global Recommendation Systems (Mean Rating)\n",
    "\n",
    "Computing the mean rating for all movies creates a ranking. The recommendation will be the same for all users and can be used if there is no information on the user.\n",
    "Variations of this approach can be separate rankings for each country/year/gender/... and to use them individually to recommend movies/items to the user.\n",
    "\n",
    "It has to be noted that this approach is biased and favours movies with fewer ratings, since large numbers of ratings tend to be less extreme in its mean ratings."
   ]
  },
  {
   "cell_type": "markdown",
   "metadata": {
    "colab_type": "text",
    "id": "zlIuNnXxONlb"
   },
   "source": [
    "### Additional Hint\n",
    "\n",
    "Predict model performance: [mean_squared_error](https://scikit-learn.org/stable/modules/generated/sklearn.metrics.mean_squared_error.html)"
   ]
  },
  {
   "cell_type": "code",
   "execution_count": 25,
   "metadata": {
    "colab": {
     "base_uri": "https://localhost:8080/",
     "height": 225
    },
    "colab_type": "code",
    "id": "spUQbaIz24Fo",
    "outputId": "0bb9b792-e2af-45a3-994c-ed167f0e75fd"
   },
   "outputs": [
    {
     "data": {
      "text/html": [
       "<div>\n",
       "<style scoped>\n",
       "    .dataframe tbody tr th:only-of-type {\n",
       "        vertical-align: middle;\n",
       "    }\n",
       "\n",
       "    .dataframe tbody tr th {\n",
       "        vertical-align: top;\n",
       "    }\n",
       "\n",
       "    .dataframe thead th {\n",
       "        text-align: right;\n",
       "    }\n",
       "</style>\n",
       "<table border=\"1\" class=\"dataframe\">\n",
       "  <thead>\n",
       "    <tr style=\"text-align: right;\">\n",
       "      <th></th>\n",
       "      <th>Rating-Mean</th>\n",
       "      <th>Rating-Freq</th>\n",
       "      <th>Year</th>\n",
       "      <th>Name</th>\n",
       "    </tr>\n",
       "    <tr>\n",
       "      <th>Movie</th>\n",
       "      <th></th>\n",
       "      <th></th>\n",
       "      <th></th>\n",
       "      <th></th>\n",
       "    </tr>\n",
       "  </thead>\n",
       "  <tbody>\n",
       "    <tr>\n",
       "      <th>3456</th>\n",
       "      <td>4.660305</td>\n",
       "      <td>1310</td>\n",
       "      <td>2004.0</td>\n",
       "      <td>Lost: Season 1</td>\n",
       "    </tr>\n",
       "    <tr>\n",
       "      <th>2102</th>\n",
       "      <td>4.506320</td>\n",
       "      <td>2769</td>\n",
       "      <td>1994.0</td>\n",
       "      <td>The Simpsons: Season 6</td>\n",
       "    </tr>\n",
       "    <tr>\n",
       "      <th>3444</th>\n",
       "      <td>4.435598</td>\n",
       "      <td>2826</td>\n",
       "      <td>2004.0</td>\n",
       "      <td>Family Guy: Freakin' Sweet Collection</td>\n",
       "    </tr>\n",
       "    <tr>\n",
       "      <th>2452</th>\n",
       "      <td>4.426653</td>\n",
       "      <td>18617</td>\n",
       "      <td>2001.0</td>\n",
       "      <td>Lord of the Rings: The Fellowship of the Ring</td>\n",
       "    </tr>\n",
       "    <tr>\n",
       "      <th>2172</th>\n",
       "      <td>4.384032</td>\n",
       "      <td>6200</td>\n",
       "      <td>1991.0</td>\n",
       "      <td>The Simpsons: Season 3</td>\n",
       "    </tr>\n",
       "  </tbody>\n",
       "</table>\n",
       "</div>"
      ],
      "text/plain": [
       "       Rating-Mean  Rating-Freq    Year  \\\n",
       "Movie                                     \n",
       "3456      4.660305         1310  2004.0   \n",
       "2102      4.506320         2769  1994.0   \n",
       "3444      4.435598         2826  2004.0   \n",
       "2452      4.426653        18617  2001.0   \n",
       "2172      4.384032         6200  1991.0   \n",
       "\n",
       "                                                Name  \n",
       "Movie                                                 \n",
       "3456                                  Lost: Season 1  \n",
       "2102                          The Simpsons: Season 6  \n",
       "3444           Family Guy: Freakin' Sweet Collection  \n",
       "2452   Lord of the Rings: The Fellowship of the Ring  \n",
       "2172                          The Simpsons: Season 3  "
      ]
     },
     "execution_count": 25,
     "metadata": {},
     "output_type": "execute_result"
    }
   ],
   "source": [
    "# Compute mean rating for all movies\n",
    "ratings_mean = df_p.mean(axis=0).sort_values(ascending=False).rename('Rating-Mean').to_frame()\n",
    "\n",
    "# Compute rating frequencies for all movies\n",
    "ratings_count = df_p.count(axis=0).rename('Rating-Freq').to_frame()\n",
    "\n",
    "# Combine the aggregated dataframes\n",
    "combined_df = ratings_mean.join(ratings_count).join(movie_titles)\n",
    "combined_df.head(5)"
   ]
  },
  {
   "cell_type": "code",
   "execution_count": 26,
   "metadata": {
    "colab": {
     "base_uri": "https://localhost:8080/",
     "height": 225
    },
    "colab_type": "code",
    "id": "vf66eVE_24Fq",
    "outputId": "21cc00bc-6df3-4e96-cf2b-142b317f565a"
   },
   "outputs": [
    {
     "data": {
      "text/html": [
       "<div>\n",
       "<style scoped>\n",
       "    .dataframe tbody tr th:only-of-type {\n",
       "        vertical-align: middle;\n",
       "    }\n",
       "\n",
       "    .dataframe tbody tr th {\n",
       "        vertical-align: top;\n",
       "    }\n",
       "\n",
       "    .dataframe thead th {\n",
       "        text-align: right;\n",
       "    }\n",
       "</style>\n",
       "<table border=\"1\" class=\"dataframe\">\n",
       "  <thead>\n",
       "    <tr style=\"text-align: right;\">\n",
       "      <th></th>\n",
       "      <th>User</th>\n",
       "      <th>Rating</th>\n",
       "      <th>Rating-Mean</th>\n",
       "    </tr>\n",
       "    <tr>\n",
       "      <th>Movie</th>\n",
       "      <th></th>\n",
       "      <th></th>\n",
       "      <th></th>\n",
       "    </tr>\n",
       "  </thead>\n",
       "  <tbody>\n",
       "    <tr>\n",
       "      <th>3</th>\n",
       "      <td>25049</td>\n",
       "      <td>4.0</td>\n",
       "      <td>3.451128</td>\n",
       "    </tr>\n",
       "    <tr>\n",
       "      <th>3</th>\n",
       "      <td>2596745</td>\n",
       "      <td>4.0</td>\n",
       "      <td>3.451128</td>\n",
       "    </tr>\n",
       "    <tr>\n",
       "      <th>3</th>\n",
       "      <td>2291306</td>\n",
       "      <td>2.0</td>\n",
       "      <td>3.451128</td>\n",
       "    </tr>\n",
       "    <tr>\n",
       "      <th>3</th>\n",
       "      <td>1254363</td>\n",
       "      <td>4.0</td>\n",
       "      <td>3.451128</td>\n",
       "    </tr>\n",
       "    <tr>\n",
       "      <th>3</th>\n",
       "      <td>2282361</td>\n",
       "      <td>5.0</td>\n",
       "      <td>3.451128</td>\n",
       "    </tr>\n",
       "  </tbody>\n",
       "</table>\n",
       "</div>"
      ],
      "text/plain": [
       "          User  Rating  Rating-Mean\n",
       "Movie                              \n",
       "3        25049     4.0     3.451128\n",
       "3      2596745     4.0     3.451128\n",
       "3      2291306     2.0     3.451128\n",
       "3      1254363     4.0     3.451128\n",
       "3      2282361     5.0     3.451128"
      ]
     },
     "execution_count": 26,
     "metadata": {},
     "output_type": "execute_result"
    }
   ],
   "source": [
    "# Join labels and predictions based on mean movie rating\n",
    "predictions_df = df_test.set_index('Movie').join(ratings_mean)\n",
    "predictions_df.head(5)"
   ]
  },
  {
   "cell_type": "code",
   "execution_count": 27,
   "metadata": {
    "colab": {
     "base_uri": "https://localhost:8080/",
     "height": 34
    },
    "colab_type": "code",
    "id": "9W2txAub24Fs",
    "outputId": "ef0d3bfd-859d-4596-a465-9b17504a1b65"
   },
   "outputs": [
    {
     "name": "stdout",
     "output_type": "stream",
     "text": [
      "The RMSE Value for the Mean Rating Recommender: 1.012511130532296\n"
     ]
    }
   ],
   "source": [
    "# Compute RMSE\n",
    "y_true = predictions_df['Rating']\n",
    "y_pred = predictions_df['Rating-Mean']\n",
    "\n",
    "rmse = np.sqrt(mean_squared_error(y_true=y_true, y_pred=y_pred))\n",
    "print(\"The RMSE Value for the Mean Rating Recommender:\", rmse)"
   ]
  },
  {
   "cell_type": "code",
   "execution_count": 28,
   "metadata": {
    "colab": {
     "base_uri": "https://localhost:8080/",
     "height": 373
    },
    "colab_type": "code",
    "id": "xda52K1m24Fu",
    "outputId": "a537ffcc-dc45-458b-9d2c-b0ed262d3103"
   },
   "outputs": [
    {
     "data": {
      "text/html": [
       "<div>\n",
       "<style scoped>\n",
       "    .dataframe tbody tr th:only-of-type {\n",
       "        vertical-align: middle;\n",
       "    }\n",
       "\n",
       "    .dataframe tbody tr th {\n",
       "        vertical-align: top;\n",
       "    }\n",
       "\n",
       "    .dataframe thead th {\n",
       "        text-align: right;\n",
       "    }\n",
       "</style>\n",
       "<table border=\"1\" class=\"dataframe\">\n",
       "  <thead>\n",
       "    <tr style=\"text-align: right;\">\n",
       "      <th></th>\n",
       "      <th>Name</th>\n",
       "      <th>Rating-Mean</th>\n",
       "    </tr>\n",
       "    <tr>\n",
       "      <th>Movie</th>\n",
       "      <th></th>\n",
       "      <th></th>\n",
       "    </tr>\n",
       "  </thead>\n",
       "  <tbody>\n",
       "    <tr>\n",
       "      <th>3456</th>\n",
       "      <td>Lost: Season 1</td>\n",
       "      <td>4.660305</td>\n",
       "    </tr>\n",
       "    <tr>\n",
       "      <th>2102</th>\n",
       "      <td>The Simpsons: Season 6</td>\n",
       "      <td>4.506320</td>\n",
       "    </tr>\n",
       "    <tr>\n",
       "      <th>3444</th>\n",
       "      <td>Family Guy: Freakin' Sweet Collection</td>\n",
       "      <td>4.435598</td>\n",
       "    </tr>\n",
       "    <tr>\n",
       "      <th>2452</th>\n",
       "      <td>Lord of the Rings: The Fellowship of the Ring</td>\n",
       "      <td>4.426653</td>\n",
       "    </tr>\n",
       "    <tr>\n",
       "      <th>2172</th>\n",
       "      <td>The Simpsons: Season 3</td>\n",
       "      <td>4.384032</td>\n",
       "    </tr>\n",
       "    <tr>\n",
       "      <th>1256</th>\n",
       "      <td>The Best of Friends: Vol. 4</td>\n",
       "      <td>4.372818</td>\n",
       "    </tr>\n",
       "    <tr>\n",
       "      <th>3962</th>\n",
       "      <td>Finding Nemo (Widescreen)</td>\n",
       "      <td>4.369143</td>\n",
       "    </tr>\n",
       "    <tr>\n",
       "      <th>4238</th>\n",
       "      <td>Inu-Yasha</td>\n",
       "      <td>4.354545</td>\n",
       "    </tr>\n",
       "    <tr>\n",
       "      <th>1476</th>\n",
       "      <td>Six Feet Under: Season 4</td>\n",
       "      <td>4.347978</td>\n",
       "    </tr>\n",
       "    <tr>\n",
       "      <th>3046</th>\n",
       "      <td>The Simpsons: Treehouse of Horror</td>\n",
       "      <td>4.346184</td>\n",
       "    </tr>\n",
       "  </tbody>\n",
       "</table>\n",
       "</div>"
      ],
      "text/plain": [
       "                                                Name  Rating-Mean\n",
       "Movie                                                            \n",
       "3456                                  Lost: Season 1     4.660305\n",
       "2102                          The Simpsons: Season 6     4.506320\n",
       "3444           Family Guy: Freakin' Sweet Collection     4.435598\n",
       "2452   Lord of the Rings: The Fellowship of the Ring     4.426653\n",
       "2172                          The Simpsons: Season 3     4.384032\n",
       "1256                     The Best of Friends: Vol. 4     4.372818\n",
       "3962                       Finding Nemo (Widescreen)     4.369143\n",
       "4238                                       Inu-Yasha     4.354545\n",
       "1476                        Six Feet Under: Season 4     4.347978\n",
       "3046               The Simpsons: Treehouse of Horror     4.346184"
      ]
     },
     "execution_count": 28,
     "metadata": {},
     "output_type": "execute_result"
    }
   ],
   "source": [
    "# View top ten rated movies\n",
    "combined_df[['Name', 'Rating-Mean']].head(10)"
   ]
  },
  {
   "cell_type": "markdown",
   "metadata": {
    "colab_type": "text",
    "id": "iFalvivYD1Is"
   },
   "source": [
    "## Q 8.1(b): Global Recommendation Systems (Weighted Rating)\n",
    "\n",
    "To tackle the problem of the unstable mean with few ratings e.g. IDMb uses a weighted rating. Many good ratings outweigh few in this algorithm.\n",
    "\n",
    "### Hint:\n",
    "\n",
    "Weighted Rating Formula\n",
    "\n",
    "weighted rating (𝑊𝑅)=(𝑣/(𝑣+𝑚))𝑅+(𝑚/(𝑣+𝑚))𝐶\n",
    "\n",
    "where:\n",
    "\n",
    "*𝑅* = average for the movie (mean) = (Rating)\n",
    "\n",
    "*𝑣* = number of votes for the movie = (votes)\n",
    "\n",
    "*𝑚* = minimum votes required \n",
    "\n",
    "*𝐶* = the mean vote across the whole report \n",
    "\n",
    "__Your Turn:__ Fill in the necessary code snippets below to build and test the model\n"
   ]
  },
  {
   "cell_type": "code",
   "execution_count": 29,
   "metadata": {
    "colab": {},
    "colab_type": "code",
    "id": "GVfj7TPz24Fz"
   },
   "outputs": [],
   "source": [
    "# Number of minimum votes to be considered\n",
    "m = 1000\n",
    "\n",
    "# Mean rating for all movies\n",
    "C = df_p.stack().mean()\n",
    "\n",
    "# Mean rating for all movies separately\n",
    "R = df_p.mean(axis=0).values\n",
    "\n",
    "# Rating freqency for all movies separately\n",
    "v = df_p.count().values"
   ]
  },
  {
   "cell_type": "code",
   "execution_count": 30,
   "metadata": {
    "colab": {},
    "colab_type": "code",
    "id": "Ntm_D7Yl24F1"
   },
   "outputs": [],
   "source": [
    "# Weighted formula to compute the weighted rating\n",
    "weighted_score = (v*R+m*C)/(v+m)"
   ]
  },
  {
   "cell_type": "code",
   "execution_count": 43,
   "metadata": {
    "colab": {
     "base_uri": "https://localhost:8080/",
     "height": 225
    },
    "colab_type": "code",
    "id": "YQe4smBk24F3",
    "outputId": "4d1e39ef-72ef-414a-a235-8d0883aa9e00"
   },
   "outputs": [
    {
     "data": {
      "text/html": [
       "<div>\n",
       "<style scoped>\n",
       "    .dataframe tbody tr th:only-of-type {\n",
       "        vertical-align: middle;\n",
       "    }\n",
       "\n",
       "    .dataframe tbody tr th {\n",
       "        vertical-align: top;\n",
       "    }\n",
       "\n",
       "    .dataframe thead th {\n",
       "        text-align: right;\n",
       "    }\n",
       "</style>\n",
       "<table border=\"1\" class=\"dataframe\">\n",
       "  <thead>\n",
       "    <tr style=\"text-align: right;\">\n",
       "      <th></th>\n",
       "      <th>Weighted_Mean</th>\n",
       "      <th>Year</th>\n",
       "      <th>Name</th>\n",
       "    </tr>\n",
       "    <tr>\n",
       "      <th>Movie</th>\n",
       "      <th></th>\n",
       "      <th></th>\n",
       "      <th></th>\n",
       "    </tr>\n",
       "  </thead>\n",
       "  <tbody>\n",
       "    <tr>\n",
       "      <th>2452</th>\n",
       "      <td>4.377778</td>\n",
       "      <td>2001.0</td>\n",
       "      <td>Lord of the Rings: The Fellowship of the Ring</td>\n",
       "    </tr>\n",
       "    <tr>\n",
       "      <th>3962</th>\n",
       "      <td>4.320425</td>\n",
       "      <td>2003.0</td>\n",
       "      <td>Finding Nemo (Widescreen)</td>\n",
       "    </tr>\n",
       "    <tr>\n",
       "      <th>4306</th>\n",
       "      <td>4.290037</td>\n",
       "      <td>1999.0</td>\n",
       "      <td>The Sixth Sense</td>\n",
       "    </tr>\n",
       "    <tr>\n",
       "      <th>2862</th>\n",
       "      <td>4.281488</td>\n",
       "      <td>1991.0</td>\n",
       "      <td>The Silence of the Lambs</td>\n",
       "    </tr>\n",
       "    <tr>\n",
       "      <th>3290</th>\n",
       "      <td>4.263765</td>\n",
       "      <td>1974.0</td>\n",
       "      <td>The Godfather</td>\n",
       "    </tr>\n",
       "  </tbody>\n",
       "</table>\n",
       "</div>"
      ],
      "text/plain": [
       "       Weighted_Mean    Year                                           Name\n",
       "Movie                                                                      \n",
       "2452        4.377778  2001.0  Lord of the Rings: The Fellowship of the Ring\n",
       "3962        4.320425  2003.0                      Finding Nemo (Widescreen)\n",
       "4306        4.290037  1999.0                                The Sixth Sense\n",
       "2862        4.281488  1991.0                       The Silence of the Lambs\n",
       "3290        4.263765  1974.0                                  The Godfather"
      ]
     },
     "execution_count": 43,
     "metadata": {},
     "output_type": "execute_result"
    }
   ],
   "source": [
    "# convert weighted_score into a dataframe\n",
    "weighted_mean = pd.DataFrame(weighted_score,index=df_p.columns,columns=['Weighted_Mean'])\n",
    "# Combine the aggregated dataframes (wighted_mean & movie_titles)\n",
    "combined_df = weighted_mean.join(movie_titles).sort_values('Weighted_Mean',ascending=False)\n",
    "combined_df.head(5)"
   ]
  },
  {
   "cell_type": "code",
   "execution_count": 45,
   "metadata": {
    "colab": {
     "base_uri": "https://localhost:8080/",
     "height": 225
    },
    "colab_type": "code",
    "id": "jMd68xuj24F5",
    "outputId": "948409a5-b235-4892-912a-3ec8b70f841d"
   },
   "outputs": [
    {
     "data": {
      "text/html": [
       "<div>\n",
       "<style scoped>\n",
       "    .dataframe tbody tr th:only-of-type {\n",
       "        vertical-align: middle;\n",
       "    }\n",
       "\n",
       "    .dataframe tbody tr th {\n",
       "        vertical-align: top;\n",
       "    }\n",
       "\n",
       "    .dataframe thead th {\n",
       "        text-align: right;\n",
       "    }\n",
       "</style>\n",
       "<table border=\"1\" class=\"dataframe\">\n",
       "  <thead>\n",
       "    <tr style=\"text-align: right;\">\n",
       "      <th></th>\n",
       "      <th>User</th>\n",
       "      <th>Rating</th>\n",
       "      <th>Weighted_Mean</th>\n",
       "    </tr>\n",
       "    <tr>\n",
       "      <th>Movie</th>\n",
       "      <th></th>\n",
       "      <th></th>\n",
       "      <th></th>\n",
       "    </tr>\n",
       "  </thead>\n",
       "  <tbody>\n",
       "    <tr>\n",
       "      <th>3</th>\n",
       "      <td>25049</td>\n",
       "      <td>4.0</td>\n",
       "      <td>3.462054</td>\n",
       "    </tr>\n",
       "    <tr>\n",
       "      <th>3</th>\n",
       "      <td>2596745</td>\n",
       "      <td>4.0</td>\n",
       "      <td>3.462054</td>\n",
       "    </tr>\n",
       "    <tr>\n",
       "      <th>3</th>\n",
       "      <td>2291306</td>\n",
       "      <td>2.0</td>\n",
       "      <td>3.462054</td>\n",
       "    </tr>\n",
       "    <tr>\n",
       "      <th>3</th>\n",
       "      <td>1254363</td>\n",
       "      <td>4.0</td>\n",
       "      <td>3.462054</td>\n",
       "    </tr>\n",
       "    <tr>\n",
       "      <th>3</th>\n",
       "      <td>2282361</td>\n",
       "      <td>5.0</td>\n",
       "      <td>3.462054</td>\n",
       "    </tr>\n",
       "  </tbody>\n",
       "</table>\n",
       "</div>"
      ],
      "text/plain": [
       "          User  Rating  Weighted_Mean\n",
       "Movie                                \n",
       "3        25049     4.0       3.462054\n",
       "3      2596745     4.0       3.462054\n",
       "3      2291306     2.0       3.462054\n",
       "3      1254363     4.0       3.462054\n",
       "3      2282361     5.0       3.462054"
      ]
     },
     "execution_count": 45,
     "metadata": {},
     "output_type": "execute_result"
    }
   ],
   "source": [
    "# Join labels and predictions based on mean movie rating\n",
    "predictions_df = df_test.set_index('Movie').join(weighted_mean)\n",
    "predictions_df.head(5)"
   ]
  },
  {
   "cell_type": "code",
   "execution_count": 46,
   "metadata": {
    "colab": {
     "base_uri": "https://localhost:8080/",
     "height": 34
    },
    "colab_type": "code",
    "id": "HdCxHIO424F8",
    "outputId": "e8369ec9-e022-4b66-cd55-256ee1f5ff62"
   },
   "outputs": [
    {
     "name": "stdout",
     "output_type": "stream",
     "text": [
      "The RMSE Value for the Weighted-Mean Rating Recommender: 1.017582466099457\n"
     ]
    }
   ],
   "source": [
    "# Compute RMSE\n",
    "y_true = predictions_df.Rating\n",
    "y_pred = predictions_df.Weighted_Mean\n",
    "\n",
    "rmse = np.sqrt(mean_squared_error(y_true,y_pred))\n",
    "print(\"The RMSE Value for the Weighted-Mean Rating Recommender:\", rmse)"
   ]
  },
  {
   "cell_type": "code",
   "execution_count": 47,
   "metadata": {
    "colab": {
     "base_uri": "https://localhost:8080/",
     "height": 373
    },
    "colab_type": "code",
    "id": "gt1Q5Mh124F-",
    "outputId": "1e61eb00-d5a9-4265-9b80-579b21be655c"
   },
   "outputs": [
    {
     "data": {
      "text/html": [
       "<div>\n",
       "<style scoped>\n",
       "    .dataframe tbody tr th:only-of-type {\n",
       "        vertical-align: middle;\n",
       "    }\n",
       "\n",
       "    .dataframe tbody tr th {\n",
       "        vertical-align: top;\n",
       "    }\n",
       "\n",
       "    .dataframe thead th {\n",
       "        text-align: right;\n",
       "    }\n",
       "</style>\n",
       "<table border=\"1\" class=\"dataframe\">\n",
       "  <thead>\n",
       "    <tr style=\"text-align: right;\">\n",
       "      <th></th>\n",
       "      <th>Name</th>\n",
       "      <th>Weighted_Mean</th>\n",
       "    </tr>\n",
       "    <tr>\n",
       "      <th>Movie</th>\n",
       "      <th></th>\n",
       "      <th></th>\n",
       "    </tr>\n",
       "  </thead>\n",
       "  <tbody>\n",
       "    <tr>\n",
       "      <th>2452</th>\n",
       "      <td>Lord of the Rings: The Fellowship of the Ring</td>\n",
       "      <td>4.377778</td>\n",
       "    </tr>\n",
       "    <tr>\n",
       "      <th>3962</th>\n",
       "      <td>Finding Nemo (Widescreen)</td>\n",
       "      <td>4.320425</td>\n",
       "    </tr>\n",
       "    <tr>\n",
       "      <th>4306</th>\n",
       "      <td>The Sixth Sense</td>\n",
       "      <td>4.290037</td>\n",
       "    </tr>\n",
       "    <tr>\n",
       "      <th>2862</th>\n",
       "      <td>The Silence of the Lambs</td>\n",
       "      <td>4.281488</td>\n",
       "    </tr>\n",
       "    <tr>\n",
       "      <th>3290</th>\n",
       "      <td>The Godfather</td>\n",
       "      <td>4.263765</td>\n",
       "    </tr>\n",
       "    <tr>\n",
       "      <th>2172</th>\n",
       "      <td>The Simpsons: Season 3</td>\n",
       "      <td>4.256787</td>\n",
       "    </tr>\n",
       "    <tr>\n",
       "      <th>2102</th>\n",
       "      <td>The Simpsons: Season 6</td>\n",
       "      <td>4.230795</td>\n",
       "    </tr>\n",
       "    <tr>\n",
       "      <th>2782</th>\n",
       "      <td>Braveheart</td>\n",
       "      <td>4.217973</td>\n",
       "    </tr>\n",
       "    <tr>\n",
       "      <th>3046</th>\n",
       "      <td>The Simpsons: Treehouse of Horror</td>\n",
       "      <td>4.200575</td>\n",
       "    </tr>\n",
       "    <tr>\n",
       "      <th>3444</th>\n",
       "      <td>Family Guy: Freakin' Sweet Collection</td>\n",
       "      <td>4.182663</td>\n",
       "    </tr>\n",
       "  </tbody>\n",
       "</table>\n",
       "</div>"
      ],
      "text/plain": [
       "                                                Name  Weighted_Mean\n",
       "Movie                                                              \n",
       "2452   Lord of the Rings: The Fellowship of the Ring       4.377778\n",
       "3962                       Finding Nemo (Widescreen)       4.320425\n",
       "4306                                 The Sixth Sense       4.290037\n",
       "2862                        The Silence of the Lambs       4.281488\n",
       "3290                                   The Godfather       4.263765\n",
       "2172                          The Simpsons: Season 3       4.256787\n",
       "2102                          The Simpsons: Season 6       4.230795\n",
       "2782                                      Braveheart       4.217973\n",
       "3046               The Simpsons: Treehouse of Horror       4.200575\n",
       "3444           Family Guy: Freakin' Sweet Collection       4.182663"
      ]
     },
     "execution_count": 47,
     "metadata": {},
     "output_type": "execute_result"
    }
   ],
   "source": [
    "# View top ten rated movies\n",
    "combined_df[['Name','Weighted_Mean']].head(10)"
   ]
  },
  {
   "cell_type": "markdown",
   "metadata": {
    "colab_type": "text",
    "id": "SXa7l21yE-eY"
   },
   "source": [
    "The variable \"m\" can be seen as regularizing parameter. Changing it determines how much weight is put onto the movies with many ratings.\n",
    "Even if there is a better ranking the RMSE decreased slightly. There is a trade-off between interpretability and predictive power."
   ]
  },
  {
   "cell_type": "markdown",
   "metadata": {
    "colab_type": "text",
    "id": "0KRZO1u_24GB"
   },
   "source": [
    "## 8.2: Content Based Recommendation Systems\n",
    "\n",
    "\n",
    "The Content-Based Recommender relies on the similarity of the items being recommended. The basic idea is that if you like an item, then you will also like a “similar” item. It generally works well when it’s easy to determine the context/properties of each item. If there is no historical data for a user or there is reliable metadata for each movie, it can be useful to compare the metadata of the movies to find similar ones.\n",
    "\n",
    "![](./images/Content-based.png)"
   ]
  },
  {
   "cell_type": "markdown",
   "metadata": {
    "colab_type": "text",
    "id": "5WovG-3YFSqo"
   },
   "source": [
    "### Cosine TFIDF Movie Description Similarity"
   ]
  },
  {
   "cell_type": "markdown",
   "metadata": {
    "colab_type": "text",
    "id": "eldw_9lpNfUJ"
   },
   "source": [
    "#### TF-IDF \n",
    "\n",
    "This is a text vectorization technique which is used to determine the relative importance of a document / article / news item / movie etc.\n",
    "\n",
    "TF is simply the frequency of a word in a document. \n",
    "\n",
    "IDF is the inverse of the document frequency among the whole corpus of documents. \n",
    "\n",
    "TF-IDF is used mainly because of two reasons: Suppose we search for “the results of latest European Socccer games” on Google. It is certain that “the” will occur more frequently than “soccer games” but the relative importance of soccer games is higher than the search query point of view. \n",
    "\n",
    "In such cases, TF-IDF weighting negates the effect of high frequency words in determining the importance of an item (document).\n",
    "\n",
    "![](./images/TF-IDF-FORMULA.png)\n"
   ]
  },
  {
   "cell_type": "markdown",
   "metadata": {
    "colab_type": "text",
    "id": "Trb9DlZxOYGO"
   },
   "source": [
    "#### Cosine Similarity \n",
    "After calculating TF-IDF scores, how do we determine which items are closer to each other, rather closer to the user profile? This is accomplished using the Vector Space Model which computes the proximity based on the angle between the vectors.\n",
    "\n",
    "Consider the following example\n",
    "\n",
    "![](./images/vector-space-model.png)\n",
    "\n",
    "Sentence 2 is more likely to be using Term 2 than using Term 1. Vice-versa for Sentence 1. \n",
    "\n",
    "The method of calculating this relative measure is calculated by taking the cosine of the angle between the sentences and the terms. \n",
    "\n",
    "The ultimate reason behind using cosine is that the value of cosine will increase with decreasing value of the angle between which signifies more similarity. \n",
    "\n",
    "The vectors are length normalized after which they become vectors of length 1 and then the cosine calculation is simply the sum-product of vectors."
   ]
  },
  {
   "cell_type": "markdown",
   "metadata": {
    "colab_type": "text",
    "id": "4Cm9mjG-PSr3"
   },
   "source": [
    "In this approch we will use the movie description to create a TFIDF-matrix, which counts and weights words in all descriptions, and compute a cosine similarity between all of those sparse text-vectors. This can easily be extended to more or different features if you like.\n",
    "It is impossible for this model to compute a RMSE score, since the model does not recommend the movies directly.\n",
    "In this way it is possible to find movies closly related to each other.\n",
    "\n",
    "This approach of content based filtering can be extendend to increase the model performance by adding some more features like genres, cast, crew etc."
   ]
  },
  {
   "cell_type": "code",
   "execution_count": 48,
   "metadata": {
    "colab": {
     "base_uri": "https://localhost:8080/",
     "height": 134
    },
    "colab_type": "code",
    "id": "AdEeBvSf24GE",
    "outputId": "6dfc4ef6-f4b3-45d3-e6b1-35e2132a2375"
   },
   "outputs": [
    {
     "data": {
      "text/plain": [
       "original_title\n",
       "Toy Story                      Led by Woody, Andy's toys live happily in his ...\n",
       "Jumanji                        When siblings Judy and Peter discover an encha...\n",
       "Grumpier Old Men               A family wedding reignites the ancient feud be...\n",
       "Waiting to Exhale              Cheated on, mistreated and stepped on, the wom...\n",
       "Father of the Bride Part II    Just when George Banks has recovered from his ...\n",
       "Name: overview, dtype: object"
      ]
     },
     "execution_count": 48,
     "metadata": {},
     "output_type": "execute_result"
    }
   ],
   "source": [
    "# view sample movie descriptions\n",
    "movie_metadata['overview'].head(5)"
   ]
  },
  {
   "cell_type": "code",
   "execution_count": 49,
   "metadata": {
    "colab": {},
    "colab_type": "code",
    "id": "DiiwYdQj24GG"
   },
   "outputs": [],
   "source": [
    "# Create tf-idf matrix for text comparison\n",
    "tfidf = TfidfVectorizer(stop_words='english')\n",
    "tfidf_matrix = tfidf.fit_transform(movie_metadata['overview'])"
   ]
  },
  {
   "cell_type": "code",
   "execution_count": 50,
   "metadata": {
    "colab": {
     "base_uri": "https://localhost:8080/",
     "height": 560
    },
    "colab_type": "code",
    "id": "VU3Kr_OJ24GK",
    "outputId": "b6224e65-ad8d-4634-a896-c5f9676f7a00"
   },
   "outputs": [
    {
     "data": {
      "text/html": [
       "<div>\n",
       "<style scoped>\n",
       "    .dataframe tbody tr th:only-of-type {\n",
       "        vertical-align: middle;\n",
       "    }\n",
       "\n",
       "    .dataframe tbody tr th {\n",
       "        vertical-align: top;\n",
       "    }\n",
       "\n",
       "    .dataframe thead th {\n",
       "        text-align: right;\n",
       "    }\n",
       "</style>\n",
       "<table border=\"1\" class=\"dataframe\">\n",
       "  <thead>\n",
       "    <tr style=\"text-align: right;\">\n",
       "      <th></th>\n",
       "      <th>Toy Story</th>\n",
       "      <th>Jumanji</th>\n",
       "      <th>Grumpier Old Men</th>\n",
       "      <th>Waiting to Exhale</th>\n",
       "      <th>Father of the Bride Part II</th>\n",
       "      <th>Heat</th>\n",
       "      <th>Sabrina</th>\n",
       "      <th>Tom and Huck</th>\n",
       "      <th>Sudden Death</th>\n",
       "      <th>GoldenEye</th>\n",
       "      <th>...</th>\n",
       "      <th>The Final Storm</th>\n",
       "      <th>In a Heartbeat</th>\n",
       "      <th>Bloed, Zweet en Tranen</th>\n",
       "      <th>To Be Fat Like Me</th>\n",
       "      <th>Cadet Kelly</th>\n",
       "      <th>L'Homme à la tête de caoutchouc</th>\n",
       "      <th>Le locataire diabolique</th>\n",
       "      <th>L'Homme orchestre</th>\n",
       "      <th>Maa</th>\n",
       "      <th>Robin Hood</th>\n",
       "    </tr>\n",
       "  </thead>\n",
       "  <tbody>\n",
       "    <tr>\n",
       "      <th>Toy Story</th>\n",
       "      <td>1.000000</td>\n",
       "      <td>0.015385</td>\n",
       "      <td>0.000000</td>\n",
       "      <td>0.000000</td>\n",
       "      <td>0.000000</td>\n",
       "      <td>0.000000</td>\n",
       "      <td>0.000000</td>\n",
       "      <td>0.000000</td>\n",
       "      <td>0.000000</td>\n",
       "      <td>0.0</td>\n",
       "      <td>...</td>\n",
       "      <td>0.000000</td>\n",
       "      <td>0.023356</td>\n",
       "      <td>0.0</td>\n",
       "      <td>0.000000</td>\n",
       "      <td>0.0</td>\n",
       "      <td>0.000000</td>\n",
       "      <td>0.000000</td>\n",
       "      <td>0.000000</td>\n",
       "      <td>0.000000</td>\n",
       "      <td>0.0</td>\n",
       "    </tr>\n",
       "    <tr>\n",
       "      <th>Jumanji</th>\n",
       "      <td>0.015385</td>\n",
       "      <td>1.000000</td>\n",
       "      <td>0.046854</td>\n",
       "      <td>0.000000</td>\n",
       "      <td>0.000000</td>\n",
       "      <td>0.047646</td>\n",
       "      <td>0.000000</td>\n",
       "      <td>0.000000</td>\n",
       "      <td>0.098488</td>\n",
       "      <td>0.0</td>\n",
       "      <td>...</td>\n",
       "      <td>0.000000</td>\n",
       "      <td>0.000000</td>\n",
       "      <td>0.0</td>\n",
       "      <td>0.004192</td>\n",
       "      <td>0.0</td>\n",
       "      <td>0.014642</td>\n",
       "      <td>0.000000</td>\n",
       "      <td>0.000000</td>\n",
       "      <td>0.000000</td>\n",
       "      <td>0.0</td>\n",
       "    </tr>\n",
       "    <tr>\n",
       "      <th>Grumpier Old Men</th>\n",
       "      <td>0.000000</td>\n",
       "      <td>0.046854</td>\n",
       "      <td>1.000000</td>\n",
       "      <td>0.000000</td>\n",
       "      <td>0.023903</td>\n",
       "      <td>0.000000</td>\n",
       "      <td>0.000000</td>\n",
       "      <td>0.006463</td>\n",
       "      <td>0.000000</td>\n",
       "      <td>0.0</td>\n",
       "      <td>...</td>\n",
       "      <td>0.000000</td>\n",
       "      <td>0.000000</td>\n",
       "      <td>0.0</td>\n",
       "      <td>0.000000</td>\n",
       "      <td>0.0</td>\n",
       "      <td>0.015409</td>\n",
       "      <td>0.000000</td>\n",
       "      <td>0.000000</td>\n",
       "      <td>0.007101</td>\n",
       "      <td>0.0</td>\n",
       "    </tr>\n",
       "    <tr>\n",
       "      <th>Waiting to Exhale</th>\n",
       "      <td>0.000000</td>\n",
       "      <td>0.000000</td>\n",
       "      <td>0.000000</td>\n",
       "      <td>1.000000</td>\n",
       "      <td>0.000000</td>\n",
       "      <td>0.007417</td>\n",
       "      <td>0.000000</td>\n",
       "      <td>0.008592</td>\n",
       "      <td>0.000000</td>\n",
       "      <td>0.0</td>\n",
       "      <td>...</td>\n",
       "      <td>0.028460</td>\n",
       "      <td>0.000000</td>\n",
       "      <td>0.0</td>\n",
       "      <td>0.000000</td>\n",
       "      <td>0.0</td>\n",
       "      <td>0.000000</td>\n",
       "      <td>0.016324</td>\n",
       "      <td>0.006840</td>\n",
       "      <td>0.000000</td>\n",
       "      <td>0.0</td>\n",
       "    </tr>\n",
       "    <tr>\n",
       "      <th>Father of the Bride Part II</th>\n",
       "      <td>0.000000</td>\n",
       "      <td>0.000000</td>\n",
       "      <td>0.023903</td>\n",
       "      <td>0.000000</td>\n",
       "      <td>1.000000</td>\n",
       "      <td>0.000000</td>\n",
       "      <td>0.030866</td>\n",
       "      <td>0.000000</td>\n",
       "      <td>0.033213</td>\n",
       "      <td>0.0</td>\n",
       "      <td>...</td>\n",
       "      <td>0.000000</td>\n",
       "      <td>0.000000</td>\n",
       "      <td>0.0</td>\n",
       "      <td>0.022816</td>\n",
       "      <td>0.0</td>\n",
       "      <td>0.000000</td>\n",
       "      <td>0.000000</td>\n",
       "      <td>0.000000</td>\n",
       "      <td>0.012584</td>\n",
       "      <td>0.0</td>\n",
       "    </tr>\n",
       "    <tr>\n",
       "      <th>Heat</th>\n",
       "      <td>0.000000</td>\n",
       "      <td>0.047646</td>\n",
       "      <td>0.000000</td>\n",
       "      <td>0.007417</td>\n",
       "      <td>0.000000</td>\n",
       "      <td>1.000000</td>\n",
       "      <td>0.000000</td>\n",
       "      <td>0.000000</td>\n",
       "      <td>0.046349</td>\n",
       "      <td>0.0</td>\n",
       "      <td>...</td>\n",
       "      <td>0.000000</td>\n",
       "      <td>0.000000</td>\n",
       "      <td>0.0</td>\n",
       "      <td>0.000000</td>\n",
       "      <td>0.0</td>\n",
       "      <td>0.000000</td>\n",
       "      <td>0.015837</td>\n",
       "      <td>0.000000</td>\n",
       "      <td>0.000000</td>\n",
       "      <td>0.0</td>\n",
       "    </tr>\n",
       "    <tr>\n",
       "      <th>Sabrina</th>\n",
       "      <td>0.000000</td>\n",
       "      <td>0.000000</td>\n",
       "      <td>0.000000</td>\n",
       "      <td>0.000000</td>\n",
       "      <td>0.030866</td>\n",
       "      <td>0.000000</td>\n",
       "      <td>1.000000</td>\n",
       "      <td>0.000000</td>\n",
       "      <td>0.000000</td>\n",
       "      <td>0.0</td>\n",
       "      <td>...</td>\n",
       "      <td>0.000000</td>\n",
       "      <td>0.000000</td>\n",
       "      <td>0.0</td>\n",
       "      <td>0.028344</td>\n",
       "      <td>0.0</td>\n",
       "      <td>0.000000</td>\n",
       "      <td>0.105139</td>\n",
       "      <td>0.000000</td>\n",
       "      <td>0.000000</td>\n",
       "      <td>0.0</td>\n",
       "    </tr>\n",
       "    <tr>\n",
       "      <th>Tom and Huck</th>\n",
       "      <td>0.000000</td>\n",
       "      <td>0.000000</td>\n",
       "      <td>0.006463</td>\n",
       "      <td>0.008592</td>\n",
       "      <td>0.000000</td>\n",
       "      <td>0.000000</td>\n",
       "      <td>0.000000</td>\n",
       "      <td>1.000000</td>\n",
       "      <td>0.000000</td>\n",
       "      <td>0.0</td>\n",
       "      <td>...</td>\n",
       "      <td>0.164136</td>\n",
       "      <td>0.071019</td>\n",
       "      <td>0.0</td>\n",
       "      <td>0.000000</td>\n",
       "      <td>0.0</td>\n",
       "      <td>0.000000</td>\n",
       "      <td>0.000000</td>\n",
       "      <td>0.000000</td>\n",
       "      <td>0.006162</td>\n",
       "      <td>0.0</td>\n",
       "    </tr>\n",
       "    <tr>\n",
       "      <th>Sudden Death</th>\n",
       "      <td>0.000000</td>\n",
       "      <td>0.098488</td>\n",
       "      <td>0.000000</td>\n",
       "      <td>0.000000</td>\n",
       "      <td>0.033213</td>\n",
       "      <td>0.046349</td>\n",
       "      <td>0.000000</td>\n",
       "      <td>0.000000</td>\n",
       "      <td>1.000000</td>\n",
       "      <td>0.0</td>\n",
       "      <td>...</td>\n",
       "      <td>0.000000</td>\n",
       "      <td>0.000000</td>\n",
       "      <td>0.0</td>\n",
       "      <td>0.000000</td>\n",
       "      <td>0.0</td>\n",
       "      <td>0.000000</td>\n",
       "      <td>0.000000</td>\n",
       "      <td>0.000000</td>\n",
       "      <td>0.014963</td>\n",
       "      <td>0.0</td>\n",
       "    </tr>\n",
       "    <tr>\n",
       "      <th>GoldenEye</th>\n",
       "      <td>0.000000</td>\n",
       "      <td>0.000000</td>\n",
       "      <td>0.000000</td>\n",
       "      <td>0.000000</td>\n",
       "      <td>0.000000</td>\n",
       "      <td>0.000000</td>\n",
       "      <td>0.000000</td>\n",
       "      <td>0.000000</td>\n",
       "      <td>0.000000</td>\n",
       "      <td>1.0</td>\n",
       "      <td>...</td>\n",
       "      <td>0.043867</td>\n",
       "      <td>0.000000</td>\n",
       "      <td>0.0</td>\n",
       "      <td>0.000000</td>\n",
       "      <td>0.0</td>\n",
       "      <td>0.076444</td>\n",
       "      <td>0.000000</td>\n",
       "      <td>0.016266</td>\n",
       "      <td>0.000000</td>\n",
       "      <td>0.0</td>\n",
       "    </tr>\n",
       "  </tbody>\n",
       "</table>\n",
       "<p>10 rows × 21604 columns</p>\n",
       "</div>"
      ],
      "text/plain": [
       "                             Toy Story   Jumanji  Grumpier Old Men  \\\n",
       "Toy Story                     1.000000  0.015385          0.000000   \n",
       "Jumanji                       0.015385  1.000000          0.046854   \n",
       "Grumpier Old Men              0.000000  0.046854          1.000000   \n",
       "Waiting to Exhale             0.000000  0.000000          0.000000   \n",
       "Father of the Bride Part II   0.000000  0.000000          0.023903   \n",
       "Heat                          0.000000  0.047646          0.000000   \n",
       "Sabrina                       0.000000  0.000000          0.000000   \n",
       "Tom and Huck                  0.000000  0.000000          0.006463   \n",
       "Sudden Death                  0.000000  0.098488          0.000000   \n",
       "GoldenEye                     0.000000  0.000000          0.000000   \n",
       "\n",
       "                             Waiting to Exhale  Father of the Bride Part II  \\\n",
       "Toy Story                             0.000000                     0.000000   \n",
       "Jumanji                               0.000000                     0.000000   \n",
       "Grumpier Old Men                      0.000000                     0.023903   \n",
       "Waiting to Exhale                     1.000000                     0.000000   \n",
       "Father of the Bride Part II           0.000000                     1.000000   \n",
       "Heat                                  0.007417                     0.000000   \n",
       "Sabrina                               0.000000                     0.030866   \n",
       "Tom and Huck                          0.008592                     0.000000   \n",
       "Sudden Death                          0.000000                     0.033213   \n",
       "GoldenEye                             0.000000                     0.000000   \n",
       "\n",
       "                                 Heat   Sabrina  Tom and Huck  Sudden Death  \\\n",
       "Toy Story                    0.000000  0.000000      0.000000      0.000000   \n",
       "Jumanji                      0.047646  0.000000      0.000000      0.098488   \n",
       "Grumpier Old Men             0.000000  0.000000      0.006463      0.000000   \n",
       "Waiting to Exhale            0.007417  0.000000      0.008592      0.000000   \n",
       "Father of the Bride Part II  0.000000  0.030866      0.000000      0.033213   \n",
       "Heat                         1.000000  0.000000      0.000000      0.046349   \n",
       "Sabrina                      0.000000  1.000000      0.000000      0.000000   \n",
       "Tom and Huck                 0.000000  0.000000      1.000000      0.000000   \n",
       "Sudden Death                 0.046349  0.000000      0.000000      1.000000   \n",
       "GoldenEye                    0.000000  0.000000      0.000000      0.000000   \n",
       "\n",
       "                             GoldenEye  ...  The Final Storm  In a Heartbeat  \\\n",
       "Toy Story                          0.0  ...         0.000000        0.023356   \n",
       "Jumanji                            0.0  ...         0.000000        0.000000   \n",
       "Grumpier Old Men                   0.0  ...         0.000000        0.000000   \n",
       "Waiting to Exhale                  0.0  ...         0.028460        0.000000   \n",
       "Father of the Bride Part II        0.0  ...         0.000000        0.000000   \n",
       "Heat                               0.0  ...         0.000000        0.000000   \n",
       "Sabrina                            0.0  ...         0.000000        0.000000   \n",
       "Tom and Huck                       0.0  ...         0.164136        0.071019   \n",
       "Sudden Death                       0.0  ...         0.000000        0.000000   \n",
       "GoldenEye                          1.0  ...         0.043867        0.000000   \n",
       "\n",
       "                             Bloed, Zweet en Tranen  To Be Fat Like Me  \\\n",
       "Toy Story                                       0.0           0.000000   \n",
       "Jumanji                                         0.0           0.004192   \n",
       "Grumpier Old Men                                0.0           0.000000   \n",
       "Waiting to Exhale                               0.0           0.000000   \n",
       "Father of the Bride Part II                     0.0           0.022816   \n",
       "Heat                                            0.0           0.000000   \n",
       "Sabrina                                         0.0           0.028344   \n",
       "Tom and Huck                                    0.0           0.000000   \n",
       "Sudden Death                                    0.0           0.000000   \n",
       "GoldenEye                                       0.0           0.000000   \n",
       "\n",
       "                             Cadet Kelly  L'Homme à la tête de caoutchouc  \\\n",
       "Toy Story                            0.0                         0.000000   \n",
       "Jumanji                              0.0                         0.014642   \n",
       "Grumpier Old Men                     0.0                         0.015409   \n",
       "Waiting to Exhale                    0.0                         0.000000   \n",
       "Father of the Bride Part II          0.0                         0.000000   \n",
       "Heat                                 0.0                         0.000000   \n",
       "Sabrina                              0.0                         0.000000   \n",
       "Tom and Huck                         0.0                         0.000000   \n",
       "Sudden Death                         0.0                         0.000000   \n",
       "GoldenEye                            0.0                         0.076444   \n",
       "\n",
       "                             Le locataire diabolique  L'Homme orchestre  \\\n",
       "Toy Story                                   0.000000           0.000000   \n",
       "Jumanji                                     0.000000           0.000000   \n",
       "Grumpier Old Men                            0.000000           0.000000   \n",
       "Waiting to Exhale                           0.016324           0.006840   \n",
       "Father of the Bride Part II                 0.000000           0.000000   \n",
       "Heat                                        0.015837           0.000000   \n",
       "Sabrina                                     0.105139           0.000000   \n",
       "Tom and Huck                                0.000000           0.000000   \n",
       "Sudden Death                                0.000000           0.000000   \n",
       "GoldenEye                                   0.000000           0.016266   \n",
       "\n",
       "                                  Maa  Robin Hood  \n",
       "Toy Story                    0.000000         0.0  \n",
       "Jumanji                      0.000000         0.0  \n",
       "Grumpier Old Men             0.007101         0.0  \n",
       "Waiting to Exhale            0.000000         0.0  \n",
       "Father of the Bride Part II  0.012584         0.0  \n",
       "Heat                         0.000000         0.0  \n",
       "Sabrina                      0.000000         0.0  \n",
       "Tom and Huck                 0.006162         0.0  \n",
       "Sudden Death                 0.014963         0.0  \n",
       "GoldenEye                    0.000000         0.0  \n",
       "\n",
       "[10 rows x 21604 columns]"
      ]
     },
     "execution_count": 50,
     "metadata": {},
     "output_type": "execute_result"
    }
   ],
   "source": [
    "# Compute cosine similarity between all movie-descriptions\n",
    "similarity = cosine_similarity(tfidf_matrix)\n",
    "similarity_df = pd.DataFrame(similarity, \n",
    "                             index=movie_metadata.index.values, \n",
    "                             columns=movie_metadata.index.values)\n",
    "similarity_df.head(10)"
   ]
  },
  {
   "cell_type": "code",
   "execution_count": 83,
   "metadata": {},
   "outputs": [
    {
     "data": {
      "text/plain": [
       "Les Misérables                    7\n",
       "Hamlet                            5\n",
       "Wuthering Heights                 5\n",
       "Alice in Wonderland               5\n",
       "Frankenstein                      5\n",
       "                                 ..\n",
       "Beyond                            1\n",
       "Sluzhebnyy Roman. Nashe Vremya    1\n",
       "Assassin's Creed: Lineage         1\n",
       "Portal: No Escape                 1\n",
       "Maa                               1\n",
       "Length: 20846, dtype: int64"
      ]
     },
     "execution_count": 83,
     "metadata": {},
     "output_type": "execute_result"
    }
   ],
   "source": [
    "similarity_df.index.value_counts().sort_values(ascending=False)"
   ]
  },
  {
   "cell_type": "code",
   "execution_count": 51,
   "metadata": {
    "colab": {
     "base_uri": "https://localhost:8080/",
     "height": 151
    },
    "colab_type": "code",
    "id": "Tm2sEuOs24GN",
    "outputId": "8d53fd80-f9cd-40bf-8446-e4d5651eac9e"
   },
   "outputs": [
    {
     "name": "stdout",
     "output_type": "stream",
     "text": [
      "\n",
      "\n",
      "Top Recommended Movies for: Batman Begins are:-\n",
      " ['Batman Unmasked: The Psychology of the Dark Knight'\n",
      " 'Batman: The Dark Knight Returns, Part 1' 'Batman: Bad Blood'\n",
      " 'Batman: Year One' 'Batman: Under the Red Hood'\n",
      " 'Batman Beyond: The Movie' 'Batman Forever'\n",
      " 'Batman: Mask of the Phantasm' 'Batman & Bill' 'Batman']\n"
     ]
    }
   ],
   "source": [
    "# movie list \n",
    "movie_list = similarity_df.columns.values\n",
    "\n",
    "\n",
    "# sample movie\n",
    "movie = 'Batman Begins'\n",
    "\n",
    "# top recommendation movie count\n",
    "top_n = 10\n",
    "\n",
    "# get movie similarity records\n",
    "movie_sim = similarity_df[similarity_df.index == movie].values[0]\n",
    "\n",
    "# get movies sorted by similarity\n",
    "sorted_movie_ids = np.argsort(movie_sim)[::-1]\n",
    "\n",
    "# get recommended movie names\n",
    "recommended_movies = movie_list[sorted_movie_ids[1:top_n+1]]\n",
    "\n",
    "print('\\n\\nTop Recommended Movies for:', movie, 'are:-\\n', recommended_movies)"
   ]
  },
  {
   "cell_type": "markdown",
   "metadata": {
    "colab_type": "text",
    "id": "50vzONVBqkTu"
   },
   "source": [
    "__Your turn:__ Create a function as defined below, __`content_movie_recommender()`__ which can take in sample movie names and print a list of top N recommended movies"
   ]
  },
  {
   "cell_type": "code",
   "execution_count": 94,
   "metadata": {},
   "outputs": [
    {
     "data": {
      "text/html": [
       "<div>\n",
       "<style scoped>\n",
       "    .dataframe tbody tr th:only-of-type {\n",
       "        vertical-align: middle;\n",
       "    }\n",
       "\n",
       "    .dataframe tbody tr th {\n",
       "        vertical-align: top;\n",
       "    }\n",
       "\n",
       "    .dataframe thead th {\n",
       "        text-align: right;\n",
       "    }\n",
       "</style>\n",
       "<table border=\"1\" class=\"dataframe\">\n",
       "  <thead>\n",
       "    <tr style=\"text-align: right;\">\n",
       "      <th></th>\n",
       "      <th>The Terminator</th>\n",
       "    </tr>\n",
       "  </thead>\n",
       "  <tbody>\n",
       "    <tr>\n",
       "      <th>Toy Story</th>\n",
       "      <td>0.0</td>\n",
       "    </tr>\n",
       "    <tr>\n",
       "      <th>Jumanji</th>\n",
       "      <td>0.0</td>\n",
       "    </tr>\n",
       "    <tr>\n",
       "      <th>Grumpier Old Men</th>\n",
       "      <td>0.0</td>\n",
       "    </tr>\n",
       "    <tr>\n",
       "      <th>Waiting to Exhale</th>\n",
       "      <td>0.0</td>\n",
       "    </tr>\n",
       "    <tr>\n",
       "      <th>Father of the Bride Part II</th>\n",
       "      <td>0.0</td>\n",
       "    </tr>\n",
       "    <tr>\n",
       "      <th>...</th>\n",
       "      <td>...</td>\n",
       "    </tr>\n",
       "    <tr>\n",
       "      <th>L'Homme à la tête de caoutchouc</th>\n",
       "      <td>0.0</td>\n",
       "    </tr>\n",
       "    <tr>\n",
       "      <th>Le locataire diabolique</th>\n",
       "      <td>0.0</td>\n",
       "    </tr>\n",
       "    <tr>\n",
       "      <th>L'Homme orchestre</th>\n",
       "      <td>0.0</td>\n",
       "    </tr>\n",
       "    <tr>\n",
       "      <th>Maa</th>\n",
       "      <td>0.0</td>\n",
       "    </tr>\n",
       "    <tr>\n",
       "      <th>Robin Hood</th>\n",
       "      <td>0.0</td>\n",
       "    </tr>\n",
       "  </tbody>\n",
       "</table>\n",
       "<p>21604 rows × 1 columns</p>\n",
       "</div>"
      ],
      "text/plain": [
       "                                 The Terminator\n",
       "Toy Story                                   0.0\n",
       "Jumanji                                     0.0\n",
       "Grumpier Old Men                            0.0\n",
       "Waiting to Exhale                           0.0\n",
       "Father of the Bride Part II                 0.0\n",
       "...                                         ...\n",
       "L'Homme à la tête de caoutchouc             0.0\n",
       "Le locataire diabolique                     0.0\n",
       "L'Homme orchestre                           0.0\n",
       "Maa                                         0.0\n",
       "Robin Hood                                  0.0\n",
       "\n",
       "[21604 rows x 1 columns]"
      ]
     },
     "execution_count": 94,
     "metadata": {},
     "output_type": "execute_result"
    }
   ],
   "source": [
    "similarity_df[['The Terminator']]"
   ]
  },
  {
   "cell_type": "code",
   "execution_count": 101,
   "metadata": {
    "colab": {},
    "colab_type": "code",
    "id": "t5cyFCvp24GT"
   },
   "outputs": [],
   "source": [
    "def content_movie_recommender(input_movie, similarity_database=similarity_df, movie_database_list=movie_list, top_n=10):\n",
    "    \n",
    "    #<YOUR CODE HERE>\n",
    "    sim = similarity_database[[input_movie]].iloc[:,0]\n",
    "    recommend = sim.sort_values(ascending=False).head(top_n+1).index.to_list()[1:]\n",
    "    print('\\n\\nTop Recommended Movies for:', movie, 'are:')\n",
    "    for r in recommend:\n",
    "        print('  ',r)"
   ]
  },
  {
   "cell_type": "markdown",
   "metadata": {
    "colab_type": "text",
    "id": "gR0sKcxIqxql"
   },
   "source": [
    "__Your turn:__ Test your function below on the given sample movies"
   ]
  },
  {
   "cell_type": "code",
   "execution_count": 102,
   "metadata": {
    "colab": {
     "base_uri": "https://localhost:8080/",
     "height": 571
    },
    "colab_type": "code",
    "id": "L0tUINS_24GV",
    "outputId": "f08f8eba-2b5e-41af-f0df-ad80821019a1"
   },
   "outputs": [
    {
     "name": "stdout",
     "output_type": "stream",
     "text": [
      "\n",
      "\n",
      "Top Recommended Movies for: Captain America are:\n",
      "   Iron Man & Captain America: Heroes United\n",
      "   Captain America: The First Avenger\n",
      "   Team Thor\n",
      "   Education for Death\n",
      "   Captain America: The Winter Soldier\n",
      "   49th Parallel\n",
      "   Ultimate Avengers\n",
      "   Philadelphia Experiment II\n",
      "   Vice Versa\n",
      "   The Lair of the White Worm\n",
      "\n",
      "\n",
      "Top Recommended Movies for: The Terminator are:\n",
      "   Terminator 2: Judgment Day\n",
      "   Terminator Salvation\n",
      "   Terminator 3: Rise of the Machines\n",
      "   Silent House\n",
      "   They Wait\n",
      "   Another World\n",
      "   Teenage Caveman\n",
      "   Appleseed Alpha\n",
      "   Respire\n",
      "   Just Married\n",
      "\n",
      "\n",
      "Top Recommended Movies for: The Exorcist are:\n",
      "   Exorcist II: The Heretic\n",
      "   Domestic Disturbance\n",
      "   Damien: Omen II\n",
      "   The Exorcist III\n",
      "   Like Sunday, Like Rain\n",
      "   People Like Us\n",
      "   Quand on a 17 Ans\n",
      "   Don't Knock Twice\n",
      "   Zero Day\n",
      "   Brick Mansions\n",
      "\n",
      "\n",
      "Top Recommended Movies for: The Hunger Games: Mockingjay - Part 1 are:\n",
      "   The Hunger Games: Catching Fire\n",
      "   The Hunger Games: Mockingjay - Part 2\n",
      "   Last Train from Gun Hill\n",
      "   The Hunger Games\n",
      "   Will Success Spoil Rock Hunter?\n",
      "   Circumstance\n",
      "   Man of Steel\n",
      "   The Amityville Horror\n",
      "   Pregnancy Pact\n",
      "   Bananas\n",
      "\n",
      "\n",
      "Top Recommended Movies for: The Blair Witch Project are:\n",
      "   Book of Shadows: Blair Witch 2\n",
      "   Freakonomics\n",
      "   Le Bal des actrices\n",
      "   Greystone Park\n",
      "   Willow Creek\n",
      "   Addio zio Tom\n",
      "   The Conspiracy\n",
      "   A Haunted House\n",
      "   Tonight She Comes\n",
      "   Curse of the Blair Witch\n"
     ]
    }
   ],
   "source": [
    "sample_movies = ['Captain America', 'The Terminator', 'The Exorcist', \n",
    "                 'The Hunger Games: Mockingjay - Part 1', 'The Blair Witch Project']\n",
    "                 \n",
    "for movie in sample_movies:\n",
    "    content_movie_recommender(movie)"
   ]
  },
  {
   "cell_type": "markdown",
   "metadata": {
    "colab_type": "text",
    "id": "r3fofy8frA2k"
   },
   "source": [
    "## 8.3: Collaborative filtering Recommendation Systems"
   ]
  },
  {
   "cell_type": "markdown",
   "metadata": {
    "colab_type": "text",
    "id": "j9Su_sBArKWX"
   },
   "source": [
    "### Collaborative Filtering\n",
    "Primarily recommends content to you based on inputs or actions from other people(say your friends).\n",
    "![collaborative filtering](./images/collaborative-filtering.png)\n",
    "\n"
   ]
  },
  {
   "cell_type": "markdown",
   "metadata": {
    "colab_type": "text",
    "id": "YxRJfswzrN5A"
   },
   "source": [
    "### What is the intuition behind this?\n",
    "\n",
    "*   **Personal tastes are correlated**\n",
    "\n",
    "\n",
    "        1.   If Alice and Bob both like X and Alice likes Y then Bob is more likely to like Y\n",
    "        2.   especially (perhaps) if Bob knows Alice"
   ]
  },
  {
   "cell_type": "markdown",
   "metadata": {
    "colab_type": "text",
    "id": "TUoI6lh6rSlG"
   },
   "source": [
    "Types of Collaborative Filtering:\n",
    "\n",
    "\n",
    "1.   Neighborhood methods\n",
    "2.   Matrix Factorization (Latent Factor) methods\n",
    "\n"
   ]
  },
  {
   "cell_type": "markdown",
   "metadata": {
    "colab_type": "text",
    "id": "23PnmU-FraW8"
   },
   "source": [
    "Assume you dont have users. Rather you have users' characterisics and properties(as shown in image).![Latent Factor method](https://miro.medium.com/max/876/1*AQEx38Wdo5H0WTSjRfAWtA.png)\n",
    "\n",
    "For example, a person who is brave-hearted is more likely to be interested in dark, horrific movies rather than someone who is soft and compassionate.\n",
    "* ^This is just an example(not in any literal sense)"
   ]
  },
  {
   "cell_type": "markdown",
   "metadata": {
    "colab_type": "text",
    "id": "fidNZWZXrdmt"
   },
   "source": [
    "So, once you have the properties and characteristics of each user, we call them as lower-dimensional features of the users. Similarly, we can have lower-dimensional features for movies(say its 10% action, 20% romance ...)\n",
    "\n",
    "With these features, we represent users and movies in a low dimensional space describing their properties. **This is called as the latent space.**\n",
    "\n",
    "We then recommend a movie based on its proximity to the user in the latent space."
   ]
  },
  {
   "cell_type": "markdown",
   "metadata": {
    "colab_type": "text",
    "id": "InGsgab1rhVT"
   },
   "source": [
    "### The problem:\n",
    "\n",
    "The problem we try to address here is the rating prediction problem. \n",
    "Say, we try to guess how much Alice would rate a movie and suggest those movies that we think Alice will rate higher."
   ]
  },
  {
   "cell_type": "markdown",
   "metadata": {
    "colab_type": "text",
    "id": "NUDZRCzhrijy"
   },
   "source": [
    "### Interesting...But, how do we predict how much Alice would rate a movie?\n",
    "\n",
    " The data we have is a rating history: ratings of users for items in the interval [1,5]. We can put all this data into a sparse matrix called R:\n",
    " \n",
    " $R = \n",
    " \\begin{pmatrix}\n",
    "  3 & ? &? \\\\ \n",
    "  ? & 4 & 5 \\\\\n",
    "  ? & ? & 2 \\\\\n",
    "  2 & 3 & ?\n",
    " \\end{pmatrix}\n",
    " \\begin{matrix}\n",
    "  Alice \\\\ \n",
    "  Bob \\\\\n",
    "  Chand \\\\\n",
    "  Deb\n",
    " \\end{matrix}\n",
    " $\n",
    "\n",
    " Each row of the matrix corresponds to a given user, and each column corresponds to a given item. For instance here, Alice has rated the first movie with a rating of 3, and Chand has rated the third item with a rating of 2.\n",
    "\n",
    " The matrix R is sparse (more than 99% of the entries are missing), and our goal is to predict the missing entries, i.e. predict the ?.\n"
   ]
  },
  {
   "cell_type": "markdown",
   "metadata": {
    "colab_type": "text",
    "id": "i_MeURMvrniQ"
   },
   "source": [
    "### Anatomy of the Rating matrix: LATENT SPACE\n",
    "Before predicting ratings, lets step back and understand the latent space more! \\\\\n",
    " In this Rating matrix, Rows represent Users and Columns represent Movies.\n",
    " $R = \n",
    "  \\begin{pmatrix}\n",
    "  --Alice-- \\\\ \n",
    "  --Bob-- \\\\\n",
    "  --Chand-- \\\\\n",
    "  --Deb--\n",
    " \\end{pmatrix}\n",
    " $\n",
    "\n",
    " In latent space(low dimensional features - fanatics), for instance, Alice could be defined as a little bit of an action fan, a little bit of a comedy fan, a lot of a romance fan, etc. As for Bob, he could be more keen on action movies:\n",
    "\n",
    "```\n",
    "Alice = 10% Action fan + 10% Comedy fan + 50% Romance fan + ⋯ \\\\\n",
    "Bob = 50% Action fan + 30% Comedy fan + 10% Romance fan + ⋯ \\\\\n",
    ": \\\\\n",
    "Zoe = ⋯\n",
    "```\n",
    "\n",
    "What would happen if we transposed our rating matrix? Instead of having users in the rows, we would now have movies, defined as their ratings.\n",
    "\n",
    "$\n",
    "R ^ T = \n",
    "  \\begin{pmatrix}\n",
    "  --Avengers-- \\\\ \n",
    "  --Matrix-- \\\\\n",
    "  --Inception-- \\\\\n",
    "  --Sherlock--\n",
    " \\end{pmatrix}\n",
    "$\n",
    "\n",
    "In the latent space, we will associate a semantic meaning behind each of the  movies, and these semantic meanings(say movie characteristics) can build back all of our original movies."
   ]
  },
  {
   "cell_type": "markdown",
   "metadata": {
    "colab_type": "text",
    "id": "vZ_r91x1rr65"
   },
   "source": [
    "### EXAMPLE\n",
    "In the below example, we convert users and movies to vectors(embeddings) and do dot-product to predict R\n",
    "\n",
    "user vector - U \\\\\n",
    "movies vector - V \\\\\n",
    "$\n",
    "R = U.V\n",
    "$"
   ]
  },
  {
   "cell_type": "markdown",
   "metadata": {
    "colab_type": "text",
    "id": "_Ynl-aVuf3Dy"
   },
   "source": [
    "### Additional hints:\n",
    "\n",
    "use dataframe map - [map](https://pandas.pydata.org/pandas-docs/stable/reference/api/pandas.Series.map.html)\n",
    "\n",
    "Create tensor - [Input](https://www.tensorflow.org/api_docs/python/tf/keras/Input#view-aliases)\n",
    "\n",
    "Create Embedding - [Embedding](https://www.tensorflow.org/api_docs/python/tf/keras/layers/Embedding)\n",
    "\n",
    "Dot product - [Dot](https://www.tensorflow.org/api_docs/python/tf/keras/layers/Dot)\n",
    "\n",
    "Fit model : \n",
    "[fit](https://www.tensorflow.org/api_docs/python/tf/keras/Model#fit)\n",
    "\n",
    "Measure Performance: [mean_squared_error](https://scikit-learn.org/stable/modules/generated/sklearn.metrics.mean_squared_error.html)"
   ]
  },
  {
   "cell_type": "markdown",
   "metadata": {
    "colab_type": "text",
    "id": "wpPZfOrDs-Qs"
   },
   "source": [
    "### Q8.3: Building a Deep Learning Matrix Factorization based Collaborative Filtering Recommendation System\n",
    "\n",
    "__Your Turn:__ Fill in the necessary blank code snippets in the following sections to train your own DL collaborative  filtering system\n",
    "\n",
    "#### Create Configuration Parameters"
   ]
  },
  {
   "cell_type": "code",
   "execution_count": 103,
   "metadata": {
    "colab": {},
    "colab_type": "code",
    "id": "AUz12Y_Z24Gh"
   },
   "outputs": [],
   "source": [
    "# Create user and movie-id mapping to convert to numbers\n",
    "user_id_mapping = {id:i for i, id in enumerate(df_filtered['User'].unique())}\n",
    "movie_id_mapping = {id:i for i, id in enumerate(df_filtered['Movie'].unique())}"
   ]
  },
  {
   "cell_type": "code",
   "execution_count": 109,
   "metadata": {
    "colab": {},
    "colab_type": "code",
    "id": "4vjVBUM724Gj"
   },
   "outputs": [],
   "source": [
    "# use dataframe map function to map users & movies to mapped ids based on above mapping\n",
    "train_user_data = df_train['User'].map(user_id_mapping)\n",
    "train_movie_data = df_train['Movie'].map(movie_id_mapping)"
   ]
  },
  {
   "cell_type": "code",
   "execution_count": 112,
   "metadata": {
    "colab": {},
    "colab_type": "code",
    "id": "_lpKylKD24Gl"
   },
   "outputs": [],
   "source": [
    "# do the same for test data\n",
    "test_user_data = df_test['User'].map(user_id_mapping) #<YOUR CODE HERE>\n",
    "test_movie_data = df_test['Movie'].map(movie_id_mapping) #<YOUR CODE HERE>"
   ]
  },
  {
   "cell_type": "code",
   "execution_count": 113,
   "metadata": {
    "colab": {},
    "colab_type": "code",
    "id": "GME8vJLp24Gn"
   },
   "outputs": [],
   "source": [
    "# Get input variable-sizes\n",
    "users = len(user_id_mapping)\n",
    "movies = len(movie_id_mapping)\n",
    "embedding_size = 100"
   ]
  },
  {
   "cell_type": "markdown",
   "metadata": {
    "colab_type": "text",
    "id": "enO8VNVP24Gp"
   },
   "source": [
    "#### Construct Deep Learning Model Architecture"
   ]
  },
  {
   "cell_type": "code",
   "execution_count": 114,
   "metadata": {
    "colab": {},
    "colab_type": "code",
    "id": "GSXpYgst24Gq"
   },
   "outputs": [],
   "source": [
    "# use Input() to create tensors for - 'user' and 'movie'\n",
    "user_id_input = Input(shape=(1,), name='user')\n",
    "movie_id_input = Input(shape=(1,), name='movie')"
   ]
  },
  {
   "cell_type": "code",
   "execution_count": 115,
   "metadata": {
    "colab": {},
    "colab_type": "code",
    "id": "gdV4lJri24Gs"
   },
   "outputs": [],
   "source": [
    "# Create embedding layer for users \n",
    "user_embedding = Embedding(output_dim=embedding_size, \n",
    "                           input_dim=users,\n",
    "                           input_length=1, \n",
    "                           name='user_embedding')(user_id_input)\n",
    "\n",
    "# create embedding layer for movies just like users\n",
    "movie_embedding = Embedding(output_dim=embedding_size,\n",
    "                            input_dim=movies,\n",
    "                            input_length=1,\n",
    "                            name='movie_embedding')(movie_id_input)"
   ]
  },
  {
   "cell_type": "code",
   "execution_count": 117,
   "metadata": {
    "colab": {},
    "colab_type": "code",
    "id": "cLpdb0pu24Gu"
   },
   "outputs": [],
   "source": [
    "# Reshape the embedding layers\n",
    "user_vector = Reshape([embedding_size])(user_embedding)\n",
    "movie_vector = Reshape([embedding_size])(movie_embedding)"
   ]
  },
  {
   "cell_type": "code",
   "execution_count": 118,
   "metadata": {
    "colab": {},
    "colab_type": "code",
    "id": "S-RxXy5B24Gw"
   },
   "outputs": [],
   "source": [
    "# Compute dot-product of reshaped embedding layers as prediction\n",
    "y = Dot(1, normalize=False)([user_vector, movie_vector])"
   ]
  },
  {
   "cell_type": "code",
   "execution_count": 119,
   "metadata": {
    "colab": {
     "base_uri": "https://localhost:8080/",
     "height": 403
    },
    "colab_type": "code",
    "id": "5wWeeSfR24Gy",
    "outputId": "cc2f5e4d-e795-4514-9bf1-804cab954ff3"
   },
   "outputs": [
    {
     "name": "stdout",
     "output_type": "stream",
     "text": [
      "Model: \"functional_1\"\n",
      "__________________________________________________________________________________________________\n",
      "Layer (type)                    Output Shape         Param #     Connected to                     \n",
      "==================================================================================================\n",
      "user (InputLayer)               [(None, 1)]          0                                            \n",
      "__________________________________________________________________________________________________\n",
      "movie (InputLayer)              [(None, 1)]          0                                            \n",
      "__________________________________________________________________________________________________\n",
      "user_embedding (Embedding)      (None, 1, 100)       2082800     user[0][0]                       \n",
      "__________________________________________________________________________________________________\n",
      "movie_embedding (Embedding)     (None, 1, 100)       174100      movie[0][0]                      \n",
      "__________________________________________________________________________________________________\n",
      "reshape_1 (Reshape)             (None, 100)          0           user_embedding[0][0]             \n",
      "__________________________________________________________________________________________________\n",
      "reshape_2 (Reshape)             (None, 100)          0           movie_embedding[0][0]            \n",
      "__________________________________________________________________________________________________\n",
      "dot (Dot)                       (None, 1)            0           reshape_1[0][0]                  \n",
      "                                                                 reshape_2[0][0]                  \n",
      "==================================================================================================\n",
      "Total params: 2,256,900\n",
      "Trainable params: 2,256,900\n",
      "Non-trainable params: 0\n",
      "__________________________________________________________________________________________________\n"
     ]
    }
   ],
   "source": [
    "# Setup model\n",
    "model = Model(inputs=[user_id_input, movie_id_input], outputs=y)\n",
    "model.compile(loss='mse', optimizer='adam')\n",
    "model.summary()"
   ]
  },
  {
   "cell_type": "markdown",
   "metadata": {
    "colab_type": "text",
    "id": "g0COamq25owq"
   },
   "source": [
    "#### Train and Test the Model"
   ]
  },
  {
   "cell_type": "code",
   "execution_count": 120,
   "metadata": {
    "colab": {
     "base_uri": "https://localhost:8080/",
     "height": 218
    },
    "colab_type": "code",
    "id": "nK6aBtQN24Gz",
    "outputId": "7c729304-f1aa-4e8d-a3e6-aa4a82ebfd0e"
   },
   "outputs": [
    {
     "name": "stdout",
     "output_type": "stream",
     "text": [
      "Epoch 1/5\n",
      "5125/5125 [==============================] - 110s 22ms/step - loss: 2.1124 - val_loss: 0.7775\n",
      "Epoch 2/5\n",
      "5125/5125 [==============================] - 94s 18ms/step - loss: 0.7343 - val_loss: 0.7242\n",
      "Epoch 3/5\n",
      "5125/5125 [==============================] - 90s 17ms/step - loss: 0.6712 - val_loss: 0.6989\n",
      "Epoch 4/5\n",
      "5125/5125 [==============================] - 90s 17ms/step - loss: 0.6101 - val_loss: 0.6899\n",
      "Epoch 5/5\n",
      "5125/5125 [==============================] - 90s 18ms/step - loss: 0.5480 - val_loss: 0.6999\n"
     ]
    },
    {
     "data": {
      "text/plain": [
       "<tensorflow.python.keras.callbacks.History at 0x2a281c51f88>"
      ]
     },
     "execution_count": 120,
     "metadata": {},
     "output_type": "execute_result"
    }
   ],
   "source": [
    "# Fit model\n",
    "X = [train_user_data, train_movie_data]\n",
    "y = df_train['Rating']\n",
    "\n",
    "batch_size = 1024\n",
    "epochs = 5\n",
    "validation_split = 0.1\n",
    "\n",
    "model.fit(X, y,\n",
    "          batch_size=batch_size, \n",
    "          epochs=epochs,\n",
    "          validation_split=validation_split,\n",
    "          shuffle=True,\n",
    "          verbose=1)"
   ]
  },
  {
   "cell_type": "code",
   "execution_count": 121,
   "metadata": {
    "colab": {
     "base_uri": "https://localhost:8080/",
     "height": 67
    },
    "colab_type": "code",
    "id": "RZLw4PX3AUkz",
    "outputId": "36987db3-b604-400f-e419-79a61f602ef1"
   },
   "outputs": [
    {
     "name": "stdout",
     "output_type": "stream",
     "text": [
      "\n",
      "\n",
      "Testing Result With DL Matrix-Factorization: 0.8372 RMSE\n"
     ]
    }
   ],
   "source": [
    "# Test model by making predictions on test data\n",
    "y_pred = model.predict([test_user_data, test_movie_data]).ravel()\n",
    "# clip upper and lower ratings\n",
    "y_pred = list(map(lambda x: 1.0 if x < 1 else 5.0 if x > 5.0 else x, y_pred))\n",
    "# get true labels\n",
    "y_true = df_test['Rating'].values\n",
    "\n",
    "#  Compute RMSE\n",
    "rmse = np.sqrt(mean_squared_error(y_pred=y_pred, y_true=y_true))\n",
    "print('\\n\\nTesting Result With DL Matrix-Factorization: {:.4f} RMSE'.format(rmse))"
   ]
  },
  {
   "cell_type": "code",
   "execution_count": 122,
   "metadata": {
    "colab": {
     "base_uri": "https://localhost:8080/",
     "height": 639
    },
    "colab_type": "code",
    "id": "oAX4MABlCm-9",
    "outputId": "e041f405-8fe7-46ce-bcb1-d83de061de7f"
   },
   "outputs": [
    {
     "data": {
      "text/html": [
       "<div>\n",
       "<style scoped>\n",
       "    .dataframe tbody tr th:only-of-type {\n",
       "        vertical-align: middle;\n",
       "    }\n",
       "\n",
       "    .dataframe tbody tr th {\n",
       "        vertical-align: top;\n",
       "    }\n",
       "\n",
       "    .dataframe thead th {\n",
       "        text-align: right;\n",
       "    }\n",
       "</style>\n",
       "<table border=\"1\" class=\"dataframe\">\n",
       "  <thead>\n",
       "    <tr style=\"text-align: right;\">\n",
       "      <th></th>\n",
       "      <th>User ID</th>\n",
       "      <th>Movie ID</th>\n",
       "      <th>Movie Name</th>\n",
       "      <th>Predicted Rating</th>\n",
       "      <th>Actual Rating</th>\n",
       "    </tr>\n",
       "  </thead>\n",
       "  <tbody>\n",
       "    <tr>\n",
       "      <th>0</th>\n",
       "      <td>15153</td>\n",
       "      <td>944</td>\n",
       "      <td>The Duel at Silver Creek</td>\n",
       "      <td>3.4</td>\n",
       "      <td>3.0</td>\n",
       "    </tr>\n",
       "    <tr>\n",
       "      <th>1</th>\n",
       "      <td>276</td>\n",
       "      <td>323</td>\n",
       "      <td>Mother's Boys</td>\n",
       "      <td>2.9</td>\n",
       "      <td>2.0</td>\n",
       "    </tr>\n",
       "    <tr>\n",
       "      <th>2</th>\n",
       "      <td>13268</td>\n",
       "      <td>424</td>\n",
       "      <td>The 10th Kingdom</td>\n",
       "      <td>5.0</td>\n",
       "      <td>4.0</td>\n",
       "    </tr>\n",
       "    <tr>\n",
       "      <th>3</th>\n",
       "      <td>2732</td>\n",
       "      <td>783</td>\n",
       "      <td>The Outer Limits: The New Series: Aliens Among Us</td>\n",
       "      <td>3.1</td>\n",
       "      <td>3.0</td>\n",
       "    </tr>\n",
       "    <tr>\n",
       "      <th>4</th>\n",
       "      <td>19867</td>\n",
       "      <td>485</td>\n",
       "      <td>Journey to the Center of the Earth</td>\n",
       "      <td>4.2</td>\n",
       "      <td>5.0</td>\n",
       "    </tr>\n",
       "    <tr>\n",
       "      <th>5</th>\n",
       "      <td>1510</td>\n",
       "      <td>212</td>\n",
       "      <td>Dinner Rush</td>\n",
       "      <td>4.2</td>\n",
       "      <td>4.0</td>\n",
       "    </tr>\n",
       "    <tr>\n",
       "      <th>6</th>\n",
       "      <td>16486</td>\n",
       "      <td>19</td>\n",
       "      <td>Seeta Aur Geeta</td>\n",
       "      <td>3.1</td>\n",
       "      <td>1.0</td>\n",
       "    </tr>\n",
       "    <tr>\n",
       "      <th>7</th>\n",
       "      <td>3843</td>\n",
       "      <td>25</td>\n",
       "      <td>Never Die Alone</td>\n",
       "      <td>2.2</td>\n",
       "      <td>3.0</td>\n",
       "    </tr>\n",
       "    <tr>\n",
       "      <th>8</th>\n",
       "      <td>16288</td>\n",
       "      <td>407</td>\n",
       "      <td>Nightbreed</td>\n",
       "      <td>3.5</td>\n",
       "      <td>3.0</td>\n",
       "    </tr>\n",
       "    <tr>\n",
       "      <th>9</th>\n",
       "      <td>9312</td>\n",
       "      <td>815</td>\n",
       "      <td>Marlene Dietrich: Her Own Song</td>\n",
       "      <td>2.5</td>\n",
       "      <td>2.0</td>\n",
       "    </tr>\n",
       "    <tr>\n",
       "      <th>10</th>\n",
       "      <td>9502</td>\n",
       "      <td>31</td>\n",
       "      <td>ABC Primetime: Mel Gibson's The Passion of the...</td>\n",
       "      <td>4.6</td>\n",
       "      <td>5.0</td>\n",
       "    </tr>\n",
       "    <tr>\n",
       "      <th>11</th>\n",
       "      <td>17165</td>\n",
       "      <td>170</td>\n",
       "      <td>Funny Face</td>\n",
       "      <td>4.9</td>\n",
       "      <td>5.0</td>\n",
       "    </tr>\n",
       "    <tr>\n",
       "      <th>12</th>\n",
       "      <td>3581</td>\n",
       "      <td>682</td>\n",
       "      <td>Cavalry Charge</td>\n",
       "      <td>2.4</td>\n",
       "      <td>3.0</td>\n",
       "    </tr>\n",
       "    <tr>\n",
       "      <th>13</th>\n",
       "      <td>14617</td>\n",
       "      <td>418</td>\n",
       "      <td>George Lopez: Why You Crying?</td>\n",
       "      <td>3.7</td>\n",
       "      <td>4.0</td>\n",
       "    </tr>\n",
       "    <tr>\n",
       "      <th>14</th>\n",
       "      <td>12423</td>\n",
       "      <td>386</td>\n",
       "      <td>Bizet's Carmen</td>\n",
       "      <td>2.8</td>\n",
       "      <td>3.0</td>\n",
       "    </tr>\n",
       "    <tr>\n",
       "      <th>15</th>\n",
       "      <td>9872</td>\n",
       "      <td>94</td>\n",
       "      <td>Dona Herlinda and Her Son</td>\n",
       "      <td>3.9</td>\n",
       "      <td>4.0</td>\n",
       "    </tr>\n",
       "    <tr>\n",
       "      <th>16</th>\n",
       "      <td>13174</td>\n",
       "      <td>717</td>\n",
       "      <td>44 Minutes</td>\n",
       "      <td>2.9</td>\n",
       "      <td>4.0</td>\n",
       "    </tr>\n",
       "    <tr>\n",
       "      <th>17</th>\n",
       "      <td>681</td>\n",
       "      <td>710</td>\n",
       "      <td>Dolores Claiborne</td>\n",
       "      <td>1.5</td>\n",
       "      <td>1.0</td>\n",
       "    </tr>\n",
       "    <tr>\n",
       "      <th>18</th>\n",
       "      <td>13785</td>\n",
       "      <td>1180</td>\n",
       "      <td>Rolie Polie Olie: Springy-Time Fun</td>\n",
       "      <td>2.5</td>\n",
       "      <td>1.0</td>\n",
       "    </tr>\n",
       "    <tr>\n",
       "      <th>19</th>\n",
       "      <td>8035</td>\n",
       "      <td>112</td>\n",
       "      <td>Bruce Lee: A Warrior's Journey</td>\n",
       "      <td>2.9</td>\n",
       "      <td>3.0</td>\n",
       "    </tr>\n",
       "  </tbody>\n",
       "</table>\n",
       "</div>"
      ],
      "text/plain": [
       "    User ID  Movie ID                                         Movie Name  \\\n",
       "0     15153       944                           The Duel at Silver Creek   \n",
       "1       276       323                                      Mother's Boys   \n",
       "2     13268       424                                   The 10th Kingdom   \n",
       "3      2732       783  The Outer Limits: The New Series: Aliens Among Us   \n",
       "4     19867       485                 Journey to the Center of the Earth   \n",
       "5      1510       212                                        Dinner Rush   \n",
       "6     16486        19                                    Seeta Aur Geeta   \n",
       "7      3843        25                                    Never Die Alone   \n",
       "8     16288       407                                         Nightbreed   \n",
       "9      9312       815                     Marlene Dietrich: Her Own Song   \n",
       "10     9502        31  ABC Primetime: Mel Gibson's The Passion of the...   \n",
       "11    17165       170                                         Funny Face   \n",
       "12     3581       682                                     Cavalry Charge   \n",
       "13    14617       418                      George Lopez: Why You Crying?   \n",
       "14    12423       386                                     Bizet's Carmen   \n",
       "15     9872        94                          Dona Herlinda and Her Son   \n",
       "16    13174       717                                         44 Minutes   \n",
       "17      681       710                                  Dolores Claiborne   \n",
       "18    13785      1180                 Rolie Polie Olie: Springy-Time Fun   \n",
       "19     8035       112                     Bruce Lee: A Warrior's Journey   \n",
       "\n",
       "    Predicted Rating  Actual Rating  \n",
       "0                3.4            3.0  \n",
       "1                2.9            2.0  \n",
       "2                5.0            4.0  \n",
       "3                3.1            3.0  \n",
       "4                4.2            5.0  \n",
       "5                4.2            4.0  \n",
       "6                3.1            1.0  \n",
       "7                2.2            3.0  \n",
       "8                3.5            3.0  \n",
       "9                2.5            2.0  \n",
       "10               4.6            5.0  \n",
       "11               4.9            5.0  \n",
       "12               2.4            3.0  \n",
       "13               3.7            4.0  \n",
       "14               2.8            3.0  \n",
       "15               3.9            4.0  \n",
       "16               2.9            4.0  \n",
       "17               1.5            1.0  \n",
       "18               2.5            1.0  \n",
       "19               2.9            3.0  "
      ]
     },
     "execution_count": 122,
     "metadata": {},
     "output_type": "execute_result"
    }
   ],
   "source": [
    "## Let's see how our collaborative model performs by seeing the predicted and actual rating for the given user and movie pair\n",
    "results_df = pd.DataFrame({\n",
    "    'User ID': test_user_data.values,\n",
    "    'Movie ID': test_movie_data.values,\n",
    "    'Movie Name': [movie_titles['Name'].iloc[item] for item in test_movie_data],\n",
    "    'Predicted Rating': np.round(y_pred, 1),\n",
    "    'Actual Rating': y_true\n",
    "})\n",
    "\n",
    "results_df.head(20)"
   ]
  },
  {
   "cell_type": "markdown",
   "metadata": {
    "colab_type": "text",
    "id": "Gaq-sJqpc_B_"
   },
   "source": [
    "## 8.4: Hybrid Recommendation System (Content & Collaborative)\n",
    "\n",
    "One advantage of deep learning models is, that movie-metadata can easily be added to the model.\n",
    "We will tf-idf transform the short description of all movies to a sparse vector. The model will learn to reduce the dimensionality of this vector and how to combine metadata with the embedding of the user-id and the movie-id. In this way we can add any additional metadata to our own recommender.\n",
    "These kind of hybrid systems can learn how to reduce the impact of the cold start problem.\n",
    "\n",
    "Deep learning models require lots of data to train and predict. To provide our model with more data, we will include the movie metadata as well. We will do the following:\n",
    "\n",
    "\n",
    "*   Use movie metadata to combine with user and movie matrices in order to get more data\n",
    "*   Use tf-idf transform to vectorize movie metadata (Sparse Layer)\n",
    "*   Create an embedding of the metadata 512 -> 256 \n",
    "*   Combine all embeddings for movie tf-idf vectors, user and ratings to arrive at a common embedding space (256 sized embeddings per entity)\n",
    "*   Use the embeddings to train the model and get predictions on the test data\n",
    "\n",
    "\n",
    "\n",
    "\n",
    "\n"
   ]
  },
  {
   "cell_type": "markdown",
   "metadata": {
    "colab_type": "text",
    "id": "gw7fwxvQc4DV"
   },
   "source": [
    "### Additional Hints:\n",
    "\n",
    "Dense layer setup :\n",
    "[Dense](https://www.tensorflow.org/api_docs/python/tf/keras/layers/Dense#example_2)\n",
    "\n",
    "Create model using tf.keras API : \n",
    "[Model](https://www.tensorflow.org/api_docs/python/tf/keras/Model#used-in-the-notebooks)\n",
    "\n",
    "Compile model using : [Compile](https://www.tensorflow.org/api_docs/python/tf/keras/Model#compile)\n",
    "\n",
    "Fit model : \n",
    "[fit](https://www.tensorflow.org/api_docs/python/tf/keras/Model#fit)\n",
    "\n",
    "Predict accuracy: [mean_squared_error](https://scikit-learn.org/stable/modules/generated/sklearn.metrics.mean_squared_error.html)\n",
    "\n"
   ]
  },
  {
   "cell_type": "markdown",
   "metadata": {
    "colab_type": "text",
    "id": "hINM6pCk3yKz"
   },
   "source": [
    "### Q8.3: Building a Deep Learning Hybrid Recommendation System\n",
    "\n",
    "We will be building the following hybrid deep learning recommendation model as scene in the following schematic.\n",
    "\n",
    "![](./images/hybrid-dl-model.png)\n",
    "\n",
    "__Your Turn:__ Fill in the necessary blank code snippets in the following sections to train your own DL hybrid recommendation system\n",
    "\n",
    "#### Create Configuration Parameters"
   ]
  },
  {
   "cell_type": "code",
   "execution_count": 123,
   "metadata": {
    "colab": {},
    "colab_type": "code",
    "id": "QmOFI6gNZOYy"
   },
   "outputs": [],
   "source": [
    "# ceate a copy of the filtered data frame\n",
    "df_filtered_cp = df_filtered.copy(deep=True)"
   ]
  },
  {
   "cell_type": "code",
   "execution_count": 124,
   "metadata": {
    "colab": {},
    "colab_type": "code",
    "id": "eknbQW6mHsKN"
   },
   "outputs": [],
   "source": [
    "# Create user- & movie-id mapping\n",
    "user_id_mapping = {id:i for i, id in enumerate(df_filtered_cp['User'].unique())}\n",
    "movie_id_mapping = {id:i for i, id in enumerate(df_filtered_cp['Movie'].unique())}"
   ]
  },
  {
   "cell_type": "code",
   "execution_count": 125,
   "metadata": {
    "colab": {},
    "colab_type": "code",
    "id": "yLHTi2NsIEAM"
   },
   "outputs": [],
   "source": [
    "# use dataframe map function to map users & movies to mapped ids based on above mapping\n",
    "df_filtered_cp['User'] = df_filtered_cp['User'].map(user_id_mapping)\n",
    "df_filtered_cp['Movie'] = df_filtered_cp['Movie'].map(movie_id_mapping)"
   ]
  },
  {
   "cell_type": "markdown",
   "metadata": {
    "colab_type": "text",
    "id": "fh1Bg5Q_38mF"
   },
   "source": [
    "#### Create Movie Description Dataset (Content)"
   ]
  },
  {
   "cell_type": "code",
   "execution_count": 126,
   "metadata": {
    "colab": {
     "base_uri": "https://localhost:8080/",
     "height": 242
    },
    "colab_type": "code",
    "id": "CoAHPk1SIECT",
    "outputId": "341478ef-8e00-410d-dee3-ba3c79f4b409"
   },
   "outputs": [
    {
     "name": "stdout",
     "output_type": "stream",
     "text": [
      "Movie Description DF Shape: (6939, 1)\n"
     ]
    },
    {
     "data": {
      "text/html": [
       "<div>\n",
       "<style scoped>\n",
       "    .dataframe tbody tr th:only-of-type {\n",
       "        vertical-align: middle;\n",
       "    }\n",
       "\n",
       "    .dataframe tbody tr th {\n",
       "        vertical-align: top;\n",
       "    }\n",
       "\n",
       "    .dataframe thead th {\n",
       "        text-align: right;\n",
       "    }\n",
       "</style>\n",
       "<table border=\"1\" class=\"dataframe\">\n",
       "  <thead>\n",
       "    <tr style=\"text-align: right;\">\n",
       "      <th></th>\n",
       "      <th>overview</th>\n",
       "    </tr>\n",
       "    <tr>\n",
       "      <th>Id</th>\n",
       "      <th></th>\n",
       "    </tr>\n",
       "  </thead>\n",
       "  <tbody>\n",
       "    <tr>\n",
       "      <th>16182</th>\n",
       "      <td>daryl zero is a private investigator. along wi...</td>\n",
       "    </tr>\n",
       "    <tr>\n",
       "      <th>15233</th>\n",
       "      <td>clear the runway for derek zoolander, vh1's th...</td>\n",
       "    </tr>\n",
       "    <tr>\n",
       "      <th>1210</th>\n",
       "      <td>a newly arrived governor finds his province un...</td>\n",
       "    </tr>\n",
       "    <tr>\n",
       "      <th>17631</th>\n",
       "      <td>in 1879, during the zulu wars, man of the peop...</td>\n",
       "    </tr>\n",
       "    <tr>\n",
       "      <th>17631</th>\n",
       "      <td>as a child, ali neuman narrowly escaped being ...</td>\n",
       "    </tr>\n",
       "  </tbody>\n",
       "</table>\n",
       "</div>"
      ],
      "text/plain": [
       "                                                overview\n",
       "Id                                                      \n",
       "16182  daryl zero is a private investigator. along wi...\n",
       "15233  clear the runway for derek zoolander, vh1's th...\n",
       "1210   a newly arrived governor finds his province un...\n",
       "17631  in 1879, during the zulu wars, man of the peop...\n",
       "17631  as a child, ali neuman narrowly escaped being ..."
      ]
     },
     "execution_count": 126,
     "metadata": {},
     "output_type": "execute_result"
    }
   ],
   "source": [
    "# Preprocess metadata\n",
    "tmp_metadata = movie_metadata.copy()\n",
    "tmp_metadata.index = tmp_metadata.index.str.lower()\n",
    "\n",
    "# Preprocess titles\n",
    "tmp_titles = movie_titles.drop('Year', axis=1).copy()\n",
    "tmp_titles = tmp_titles.reset_index().set_index('Name')\n",
    "tmp_titles.index = tmp_titles.index.str.lower()\n",
    "\n",
    "# Combine titles and metadata\n",
    "df_id_descriptions = tmp_titles.join(tmp_metadata).dropna().set_index('Id')\n",
    "df_id_descriptions['overview'] = df_id_descriptions['overview'].str.lower()\n",
    "#del tmp_metadata,tmp_titles\n",
    "print('Movie Description DF Shape:', df_id_descriptions.shape)\n",
    "df_id_descriptions.tail()"
   ]
  },
  {
   "cell_type": "markdown",
   "metadata": {
    "colab_type": "text",
    "id": "R7__gU8E44m-"
   },
   "source": [
    "#### Create User-Rating Filtered Dataset (Collaborative)\n",
    "\n",
    "Here we filter out movie-user-ratings where movies don't have descriptions (content)"
   ]
  },
  {
   "cell_type": "code",
   "execution_count": 127,
   "metadata": {
    "colab": {
     "base_uri": "https://localhost:8080/",
     "height": 212
    },
    "colab_type": "code",
    "id": "w-NM3bV_JOG_",
    "outputId": "7a028ed8-0293-452b-ed54-e92acee43258"
   },
   "outputs": [
    {
     "name": "stdout",
     "output_type": "stream",
     "text": [
      "Movie-User-Rating DF Shape: (2285566, 3)\n"
     ]
    },
    {
     "data": {
      "text/html": [
       "<div>\n",
       "<style scoped>\n",
       "    .dataframe tbody tr th:only-of-type {\n",
       "        vertical-align: middle;\n",
       "    }\n",
       "\n",
       "    .dataframe tbody tr th {\n",
       "        vertical-align: top;\n",
       "    }\n",
       "\n",
       "    .dataframe thead th {\n",
       "        text-align: right;\n",
       "    }\n",
       "</style>\n",
       "<table border=\"1\" class=\"dataframe\">\n",
       "  <thead>\n",
       "    <tr style=\"text-align: right;\">\n",
       "      <th></th>\n",
       "      <th>Movie</th>\n",
       "      <th>User</th>\n",
       "      <th>Rating</th>\n",
       "    </tr>\n",
       "  </thead>\n",
       "  <tbody>\n",
       "    <tr>\n",
       "      <th>0</th>\n",
       "      <td>12</td>\n",
       "      <td>12</td>\n",
       "      <td>3.0</td>\n",
       "    </tr>\n",
       "    <tr>\n",
       "      <th>1</th>\n",
       "      <td>12</td>\n",
       "      <td>602</td>\n",
       "      <td>3.0</td>\n",
       "    </tr>\n",
       "    <tr>\n",
       "      <th>2</th>\n",
       "      <td>12</td>\n",
       "      <td>1000</td>\n",
       "      <td>3.0</td>\n",
       "    </tr>\n",
       "    <tr>\n",
       "      <th>3</th>\n",
       "      <td>12</td>\n",
       "      <td>1583</td>\n",
       "      <td>4.0</td>\n",
       "    </tr>\n",
       "    <tr>\n",
       "      <th>4</th>\n",
       "      <td>12</td>\n",
       "      <td>1601</td>\n",
       "      <td>3.0</td>\n",
       "    </tr>\n",
       "  </tbody>\n",
       "</table>\n",
       "</div>"
      ],
      "text/plain": [
       "   Movie  User  Rating\n",
       "0     12    12     3.0\n",
       "1     12   602     3.0\n",
       "2     12  1000     3.0\n",
       "3     12  1583     4.0\n",
       "4     12  1601     3.0"
      ]
     },
     "execution_count": 127,
     "metadata": {},
     "output_type": "execute_result"
    }
   ],
   "source": [
    "df_hybrid = (df_filtered_cp.set_index('Movie')\n",
    "               .join(df_id_descriptions)\n",
    "               .dropna()\n",
    "               .drop('overview', axis=1)\n",
    "               .reset_index().rename({'index':'Movie'}, \n",
    "                                      axis=1))\n",
    "print('Movie-User-Rating DF Shape:', df_hybrid.shape)\n",
    "df_hybrid.head()"
   ]
  },
  {
   "cell_type": "code",
   "execution_count": 128,
   "metadata": {
    "colab": {
     "base_uri": "https://localhost:8080/",
     "height": 34
    },
    "colab_type": "code",
    "id": "j7CHcKM_JOOw",
    "outputId": "e1378ad4-6a97-4fc3-9678-f131f7664686"
   },
   "outputs": [
    {
     "data": {
      "text/plain": [
       "((1985566, 3), (300000, 3))"
      ]
     },
     "execution_count": 128,
     "metadata": {},
     "output_type": "execute_result"
    }
   ],
   "source": [
    "# Split train- & testset\n",
    "n = 300000\n",
    "df_hybrid = df_hybrid.sample(frac=1).reset_index(drop=True)\n",
    "df_hybrid_train = df_hybrid[:-n]\n",
    "df_hybrid_test = df_hybrid[-n:]\n",
    "df_hybrid_train.shape, df_hybrid_test.shape"
   ]
  },
  {
   "cell_type": "markdown",
   "metadata": {
    "colab_type": "text",
    "id": "k33OwrFO5RpF"
   },
   "source": [
    "#### Generate TFIDF Vectors for Train and Test Datasets (Movie Descriptions)"
   ]
  },
  {
   "cell_type": "code",
   "execution_count": 135,
   "metadata": {
    "colab": {},
    "colab_type": "code",
    "id": "ZqiyhdelU775"
   },
   "outputs": [],
   "source": [
    "# Create tf-idf matrix for movie description vectors - HINT: check the overview column of df_id_descriptions\n",
    "tfidf = TfidfVectorizer(stop_words='english')\n",
    "tfidf_hybrid = tfidf.fit_transform(df_id_descriptions['overview'])"
   ]
  },
  {
   "cell_type": "code",
   "execution_count": 137,
   "metadata": {
    "colab": {},
    "colab_type": "code",
    "id": "RgxZz-0wU7-C"
   },
   "outputs": [],
   "source": [
    "# Get mapping from movie-ids to indices in tfidf-matrix\n",
    "movie_idx_mapping = {id:i for i, id in enumerate(df_id_descriptions.index)}"
   ]
  },
  {
   "cell_type": "code",
   "execution_count": 138,
   "metadata": {
    "colab": {
     "base_uri": "https://localhost:8080/",
     "height": 50
    },
    "colab_type": "code",
    "id": "HemfBsDqU8AL",
    "outputId": "065a5eb2-3920-4028-af05-e17bd0ee3137"
   },
   "outputs": [
    {
     "name": "stderr",
     "output_type": "stream",
     "text": [
      "100%|██████████| 1985566/1985566 [02:10<00:00, 15262.72it/s]\n"
     ]
    },
    {
     "data": {
      "text/plain": [
       "1985566"
      ]
     },
     "execution_count": 138,
     "metadata": {},
     "output_type": "execute_result"
    }
   ],
   "source": [
    "# get train data tfidf vectors\n",
    "train_tfidf = []\n",
    "\n",
    "# Iterate over all movie-ids and save the tfidf-vectors (sparse format for memory efficiency)\n",
    "for idx in tqdm(df_hybrid_train['Movie'].values):\n",
    "    index = movie_idx_mapping[idx]\n",
    "    train_tfidf.append(tfidf_hybrid[index])\n",
    "\n",
    "len(train_tfidf)"
   ]
  },
  {
   "cell_type": "code",
   "execution_count": 139,
   "metadata": {
    "colab": {
     "base_uri": "https://localhost:8080/",
     "height": 50
    },
    "colab_type": "code",
    "id": "7AqgNsqrU8CZ",
    "outputId": "da454ca5-ae30-47cc-b865-4642069edb15"
   },
   "outputs": [
    {
     "name": "stderr",
     "output_type": "stream",
     "text": [
      "100%|██████████| 300000/300000 [00:19<00:00, 15761.90it/s]\n"
     ]
    },
    {
     "data": {
      "text/plain": [
       "300000"
      ]
     },
     "execution_count": 139,
     "metadata": {},
     "output_type": "execute_result"
    }
   ],
   "source": [
    "# get test data tfidf vectors\n",
    "test_tfidf = []\n",
    "\n",
    "# Iterate over all movie-ids and save the tfidf-vectors (sparse format for memory efficiency)\n",
    "#<YOUR CODE HERE>\n",
    "for idx in tqdm(df_hybrid_test['Movie'].values):\n",
    "    index = movie_idx_mapping[idx]\n",
    "    test_tfidf.append(tfidf_hybrid[index])\n",
    "\n",
    "len(test_tfidf)"
   ]
  },
  {
   "cell_type": "code",
   "execution_count": 140,
   "metadata": {
    "colab": {
     "base_uri": "https://localhost:8080/",
     "height": 34
    },
    "colab_type": "code",
    "id": "3dyKQnCNdQTc",
    "outputId": "bcf2ef13-850c-4de3-e04a-f9884a085431"
   },
   "outputs": [
    {
     "data": {
      "text/plain": [
       "((1985566, 24144), (300000, 24144))"
      ]
     },
     "execution_count": 140,
     "metadata": {},
     "output_type": "execute_result"
    }
   ],
   "source": [
    "# Stack the sparse matrices\n",
    "train_tfidf = vstack(train_tfidf)\n",
    "test_tfidf = vstack(test_tfidf)\n",
    "\n",
    "train_tfidf.shape, test_tfidf.shape"
   ]
  },
  {
   "cell_type": "code",
   "execution_count": 167,
   "metadata": {
    "colab": {
     "base_uri": "https://localhost:8080/",
     "height": 34
    },
    "colab_type": "code",
    "id": "dMI3SxfNdwNQ",
    "outputId": "454e8563-c55e-4874-87b9-793441bdc431"
   },
   "outputs": [
    {
     "data": {
      "text/plain": [
       "scipy.sparse.csr.csr_matrix"
      ]
     },
     "execution_count": 167,
     "metadata": {},
     "output_type": "execute_result"
    }
   ],
   "source": [
    "type(train_tfidf)"
   ]
  },
  {
   "cell_type": "markdown",
   "metadata": {
    "colab_type": "text",
    "id": "M4m5y7Zv5ZuK"
   },
   "source": [
    "This shows we are using sparse matrices to represent the vectors as dense vectors would typically give a out of memory error!"
   ]
  },
  {
   "cell_type": "markdown",
   "metadata": {
    "colab_type": "text",
    "id": "rCZjFT6JeIDs"
   },
   "source": [
    "#### Construct Deep Learning Model Architecture"
   ]
  },
  {
   "cell_type": "code",
   "execution_count": 142,
   "metadata": {
    "colab": {},
    "colab_type": "code",
    "id": "y_WYqzMpeJby"
   },
   "outputs": [],
   "source": [
    "# setup NN parameters\n",
    "user_embed_dim = 256\n",
    "movie_embed_dim = 256\n",
    "userid_input_shape = 1\n",
    "movieid_input_shape = 1\n",
    "tfidf_input_shape = tfidf_hybrid.shape[1]"
   ]
  },
  {
   "cell_type": "code",
   "execution_count": 144,
   "metadata": {
    "colab": {},
    "colab_type": "code",
    "id": "Ea74tynzeqGB"
   },
   "outputs": [],
   "source": [
    "# Create the input layers\n",
    "\n",
    "# user and movie input layers\n",
    "user_id_input = Input(shape=(userid_input_shape,), name='user')\n",
    "movie_id_input = Input(shape=(movieid_input_shape,), name='movie')\n",
    "\n",
    "# tfidf input layer\n",
    "tfidf_input = Input(shape=(tfidf_input_shape,), name='tfidf', sparse=True)"
   ]
  },
  {
   "cell_type": "code",
   "execution_count": 145,
   "metadata": {
    "colab": {},
    "colab_type": "code",
    "id": "zc_bGQ6ne3Cj"
   },
   "outputs": [],
   "source": [
    "# Create embeddings layers for users and movies\n",
    "\n",
    "# user embedding\n",
    "user_embedding = Embedding(output_dim=user_embed_dim,\n",
    "                           input_dim=len(user_id_mapping),\n",
    "                           input_length=userid_input_shape,\n",
    "                           name='user_embedding')(user_id_input)\n",
    "\n",
    "# movie embedding\n",
    "movie_embedding = Embedding(output_dim=movie_embed_dim,\n",
    "                            input_dim=len(movie_id_mapping),\n",
    "                            input_length=movieid_input_shape,\n",
    "                            name='movie_embedding')(movie_id_input)"
   ]
  },
  {
   "cell_type": "code",
   "execution_count": 146,
   "metadata": {
    "colab": {},
    "colab_type": "code",
    "id": "pm_H8CaXe3Gn"
   },
   "outputs": [],
   "source": [
    "# Dimensionality reduction with Dense layers\n",
    "tfidf_vectors = Dense(512, activation='relu')(tfidf_input)\n",
    "tfidf_vectors = Dense(256, activation='relu')(tfidf_vectors)"
   ]
  },
  {
   "cell_type": "code",
   "execution_count": 148,
   "metadata": {
    "colab": {},
    "colab_type": "code",
    "id": "rlNBswdYe3I8"
   },
   "outputs": [],
   "source": [
    "# Reshape both user and movie embedding layers\n",
    "user_vectors = Reshape([user_embed_dim])(user_embedding)\n",
    "movie_vectors = Reshape([movie_embed_dim])(movie_embedding)"
   ]
  },
  {
   "cell_type": "code",
   "execution_count": 149,
   "metadata": {
    "colab": {},
    "colab_type": "code",
    "id": "LfcefQQEe3E2"
   },
   "outputs": [],
   "source": [
    "# Concatenate all layers into one \n",
    "hybrid_layer = Concatenate()([user_vectors, movie_vectors, tfidf_vectors])"
   ]
  },
  {
   "cell_type": "code",
   "execution_count": 150,
   "metadata": {
    "colab": {},
    "colab_type": "code",
    "id": "WfZK5Dg9oxVA"
   },
   "outputs": [],
   "source": [
    "# add in dense and output layers\n",
    "dense = Dense(512, activation='relu')(hybrid_layer)\n",
    "dense = Dropout(0.2)(dense)\n",
    "output = Dense(1)(dense)"
   ]
  },
  {
   "cell_type": "code",
   "execution_count": 246,
   "metadata": {
    "colab": {
     "base_uri": "https://localhost:8080/",
     "height": 622
    },
    "colab_type": "code",
    "id": "odLeDjgzoxYA",
    "outputId": "56430bf2-ce38-43d6-f2c7-82974b41af94"
   },
   "outputs": [
    {
     "name": "stdout",
     "output_type": "stream",
     "text": [
      "Model: \"functional_7\"\n",
      "__________________________________________________________________________________________________\n",
      "Layer (type)                    Output Shape         Param #     Connected to                     \n",
      "==================================================================================================\n",
      "user (InputLayer)               [(None, 1)]          0                                            \n",
      "__________________________________________________________________________________________________\n",
      "movie (InputLayer)              [(None, 1)]          0                                            \n",
      "__________________________________________________________________________________________________\n",
      "tfidf (InputLayer)              [(None, 24144)]      0                                            \n",
      "__________________________________________________________________________________________________\n",
      "user_embedding (Embedding)      (None, 1, 256)       5331968     user[0][0]                       \n",
      "__________________________________________________________________________________________________\n",
      "movie_embedding (Embedding)     (None, 1, 256)       445696      movie[0][0]                      \n",
      "__________________________________________________________________________________________________\n",
      "dense (Dense)                   (None, 512)          12362240    tfidf[0][0]                      \n",
      "__________________________________________________________________________________________________\n",
      "reshape_4 (Reshape)             (None, 256)          0           user_embedding[0][0]             \n",
      "__________________________________________________________________________________________________\n",
      "reshape_5 (Reshape)             (None, 256)          0           movie_embedding[0][0]            \n",
      "__________________________________________________________________________________________________\n",
      "dense_1 (Dense)                 (None, 256)          131328      dense[0][0]                      \n",
      "__________________________________________________________________________________________________\n",
      "concatenate (Concatenate)       (None, 768)          0           reshape_4[0][0]                  \n",
      "                                                                 reshape_5[0][0]                  \n",
      "                                                                 dense_1[0][0]                    \n",
      "__________________________________________________________________________________________________\n",
      "dense_2 (Dense)                 (None, 512)          393728      concatenate[0][0]                \n",
      "__________________________________________________________________________________________________\n",
      "dropout (Dropout)               (None, 512)          0           dense_2[0][0]                    \n",
      "__________________________________________________________________________________________________\n",
      "dense_3 (Dense)                 (None, 1)            513         dropout[0][0]                    \n",
      "==================================================================================================\n",
      "Total params: 18,665,473\n",
      "Trainable params: 18,665,473\n",
      "Non-trainable params: 0\n",
      "__________________________________________________________________________________________________\n"
     ]
    }
   ],
   "source": [
    "# create and view model summary\n",
    "model = Model(inputs=[user_id_input, movie_id_input, tfidf_input], outputs=output)\n",
    "model.compile(loss='mse', optimizer='adam')\n",
    "model.summary()"
   ]
  },
  {
   "cell_type": "markdown",
   "metadata": {},
   "source": [
    "#### Train and Test model using my own code"
   ]
  },
  {
   "cell_type": "code",
   "execution_count": 230,
   "metadata": {},
   "outputs": [],
   "source": [
    "batch_size = 1024\n",
    "epochs=10\n",
    "validation_split = 0.1\n",
    "X = [df_hybrid_train['User'], df_hybrid_train['Movie'], train_tfidf]\n",
    "y = df_hybrid_train['Rating']\n",
    "\n",
    "# prepare validation set\n",
    "shuffle_index = np.arange(y.shape[0])\n",
    "np.random.shuffle(shuffle_index)\n",
    "cutoff = int(y.shape[0]*validation_split)\n",
    "val_idx = shuffle_index[:cutoff]\n",
    "train_idx = shuffle_index[cutoff:]\n",
    "X_val = [X[0][val_idx].reset_index(drop=True), \n",
    "         X[1][val_idx].reset_index(drop=True),\n",
    "         X[2][val_idx]]\n",
    "y_val = y[val_idx].reset_index(drop=True)\n",
    "X_train = [X[0][train_idx].reset_index(drop=True), \n",
    "         X[1][train_idx].reset_index(drop=True),\n",
    "         X[2][train_idx]]\n",
    "y_train = y[train_idx].reset_index(drop=True)"
   ]
  },
  {
   "cell_type": "code",
   "execution_count": 247,
   "metadata": {},
   "outputs": [
    {
     "name": "stdout",
     "output_type": "stream",
     "text": [
      "epoch 0\n",
      "loss: 0.7846908709722809 - validation loss: 0.764290988445282\n",
      "epoch 1\n",
      "loss: 0.7517910086322992 - validation loss: 0.7417102456092834\n",
      "epoch 2\n",
      "loss: 0.7266925884864391 - validation loss: 0.7299906611442566\n",
      "epoch 3\n",
      "loss: 0.7034623250578741 - validation loss: 0.7188767194747925\n",
      "epoch 4\n",
      "loss: 0.6784795915158225 - validation loss: 0.7108395099639893\n",
      "epoch 5\n",
      "loss: 0.6532056540677745 - validation loss: 0.7070747017860413\n",
      "epoch 6\n",
      "loss: 0.6271505617138992 - validation loss: 0.6922933459281921\n",
      "epoch 7\n",
      "loss: 0.6037664901561245 - validation loss: 0.6863340735435486\n",
      "epoch 8\n",
      "loss: 0.5814287916978655 - validation loss: 0.6848559975624084\n",
      "epoch 9\n",
      "loss: 0.559533585757444 - validation loss: 0.6850224733352661\n"
     ]
    }
   ],
   "source": [
    "for e in range(epochs):\n",
    "    print('epoch',e)\n",
    "    shuffle_index = np.arange(y_train.shape[0])\n",
    "    np.random.shuffle(shuffle_index)\n",
    "    num_batches = y_train.shape[0]//batch_size\n",
    "    train_loss = 0\n",
    "    for counter in range(num_batches):\n",
    "        batch_index = shuffle_index[counter*batch_size:(counter+1)*batch_size]\n",
    "        X_batch = [X_train[0][batch_index], \n",
    "                   X_train[1][batch_index],\n",
    "                   X_train[2][batch_index]]\n",
    "        y_batch = y_train[batch_index]\n",
    "        \n",
    "        train_loss += model.train_on_batch(X_batch,y_batch)\n",
    "    train_loss/=num_batches\n",
    "    val_loss = model.test_on_batch(X_val,y_val)\n",
    "    print('loss:',train_loss,'- validation loss:',val_loss)   \n",
    "    \n",
    "    \n",
    "    \n",
    "        "
   ]
  },
  {
   "cell_type": "markdown",
   "metadata": {
    "colab_type": "text",
    "id": "upDnm3r76Ivj"
   },
   "source": [
    "#### Train and Test the Model"
   ]
  },
  {
   "cell_type": "markdown",
   "metadata": {},
   "source": [
    "It seems that model.fit doesn't work with sparse matrix. So I wrote my own code in the section above"
   ]
  },
  {
   "cell_type": "code",
   "execution_count": 170,
   "metadata": {
    "colab": {
     "base_uri": "https://localhost:8080/",
     "height": 386
    },
    "colab_type": "code",
    "id": "SmzWu6Xhoxnt",
    "outputId": "18233373-81f3-4bc1-a177-91b46e68b87f"
   },
   "outputs": [
    {
     "ename": "ValueError",
     "evalue": "`validation_split` is only supported for Tensors or NumPy arrays, found following types in the input: [<class 'scipy.sparse.csr.csr_matrix'>]",
     "output_type": "error",
     "traceback": [
      "\u001b[1;31m---------------------------------------------------------------------------\u001b[0m",
      "\u001b[1;31mValueError\u001b[0m                                Traceback (most recent call last)",
      "\u001b[1;32m~\\AppData\\Local\\Temp\\ipykernel_37452\\3579800805.py\u001b[0m in \u001b[0;36m<module>\u001b[1;34m\u001b[0m\n\u001b[0;32m      8\u001b[0m           \u001b[0mepochs\u001b[0m\u001b[1;33m=\u001b[0m\u001b[0mepochs\u001b[0m\u001b[1;33m,\u001b[0m \u001b[1;31m## Change the epochs to find better improved model.\u001b[0m\u001b[1;33m\u001b[0m\u001b[1;33m\u001b[0m\u001b[0m\n\u001b[0;32m      9\u001b[0m           \u001b[0mvalidation_split\u001b[0m\u001b[1;33m=\u001b[0m\u001b[1;36m0.1\u001b[0m\u001b[1;33m,\u001b[0m\u001b[1;33m\u001b[0m\u001b[1;33m\u001b[0m\u001b[0m\n\u001b[1;32m---> 10\u001b[1;33m           \u001b[0mshuffle\u001b[0m\u001b[1;33m=\u001b[0m\u001b[1;32mTrue\u001b[0m\u001b[1;33m\u001b[0m\u001b[1;33m\u001b[0m\u001b[0m\n\u001b[0m\u001b[0;32m     11\u001b[0m          )\n",
      "\u001b[1;32m~\\anaconda3\\envs\\mec-miniprojects\\lib\\site-packages\\tensorflow\\python\\keras\\engine\\training.py\u001b[0m in \u001b[0;36m_method_wrapper\u001b[1;34m(self, *args, **kwargs)\u001b[0m\n\u001b[0;32m    106\u001b[0m   \u001b[1;32mdef\u001b[0m \u001b[0m_method_wrapper\u001b[0m\u001b[1;33m(\u001b[0m\u001b[0mself\u001b[0m\u001b[1;33m,\u001b[0m \u001b[1;33m*\u001b[0m\u001b[0margs\u001b[0m\u001b[1;33m,\u001b[0m \u001b[1;33m**\u001b[0m\u001b[0mkwargs\u001b[0m\u001b[1;33m)\u001b[0m\u001b[1;33m:\u001b[0m\u001b[1;33m\u001b[0m\u001b[1;33m\u001b[0m\u001b[0m\n\u001b[0;32m    107\u001b[0m     \u001b[1;32mif\u001b[0m \u001b[1;32mnot\u001b[0m \u001b[0mself\u001b[0m\u001b[1;33m.\u001b[0m\u001b[0m_in_multi_worker_mode\u001b[0m\u001b[1;33m(\u001b[0m\u001b[1;33m)\u001b[0m\u001b[1;33m:\u001b[0m  \u001b[1;31m# pylint: disable=protected-access\u001b[0m\u001b[1;33m\u001b[0m\u001b[1;33m\u001b[0m\u001b[0m\n\u001b[1;32m--> 108\u001b[1;33m       \u001b[1;32mreturn\u001b[0m \u001b[0mmethod\u001b[0m\u001b[1;33m(\u001b[0m\u001b[0mself\u001b[0m\u001b[1;33m,\u001b[0m \u001b[1;33m*\u001b[0m\u001b[0margs\u001b[0m\u001b[1;33m,\u001b[0m \u001b[1;33m**\u001b[0m\u001b[0mkwargs\u001b[0m\u001b[1;33m)\u001b[0m\u001b[1;33m\u001b[0m\u001b[1;33m\u001b[0m\u001b[0m\n\u001b[0m\u001b[0;32m    109\u001b[0m \u001b[1;33m\u001b[0m\u001b[0m\n\u001b[0;32m    110\u001b[0m     \u001b[1;31m# Running inside `run_distribute_coordinator` already.\u001b[0m\u001b[1;33m\u001b[0m\u001b[1;33m\u001b[0m\u001b[1;33m\u001b[0m\u001b[0m\n",
      "\u001b[1;32m~\\anaconda3\\envs\\mec-miniprojects\\lib\\site-packages\\tensorflow\\python\\keras\\engine\\training.py\u001b[0m in \u001b[0;36mfit\u001b[1;34m(self, x, y, batch_size, epochs, verbose, callbacks, validation_split, validation_data, shuffle, class_weight, sample_weight, initial_epoch, steps_per_epoch, validation_steps, validation_batch_size, validation_freq, max_queue_size, workers, use_multiprocessing)\u001b[0m\n\u001b[0;32m   1038\u001b[0m       (x, y, sample_weight), validation_data = (\n\u001b[0;32m   1039\u001b[0m           data_adapter.train_validation_split(\n\u001b[1;32m-> 1040\u001b[1;33m               (x, y, sample_weight), validation_split=validation_split))\n\u001b[0m\u001b[0;32m   1041\u001b[0m \u001b[1;33m\u001b[0m\u001b[0m\n\u001b[0;32m   1042\u001b[0m     \u001b[1;32mif\u001b[0m \u001b[0mvalidation_data\u001b[0m\u001b[1;33m:\u001b[0m\u001b[1;33m\u001b[0m\u001b[1;33m\u001b[0m\u001b[0m\n",
      "\u001b[1;32m~\\anaconda3\\envs\\mec-miniprojects\\lib\\site-packages\\tensorflow\\python\\keras\\engine\\data_adapter.py\u001b[0m in \u001b[0;36mtrain_validation_split\u001b[1;34m(arrays, validation_split)\u001b[0m\n\u001b[0;32m   1374\u001b[0m     raise ValueError(\n\u001b[0;32m   1375\u001b[0m         \u001b[1;34m\"`validation_split` is only supported for Tensors or NumPy \"\u001b[0m\u001b[1;33m\u001b[0m\u001b[1;33m\u001b[0m\u001b[0m\n\u001b[1;32m-> 1376\u001b[1;33m         \"arrays, found following types in the input: {}\".format(unsplitable))\n\u001b[0m\u001b[0;32m   1377\u001b[0m \u001b[1;33m\u001b[0m\u001b[0m\n\u001b[0;32m   1378\u001b[0m   \u001b[1;32mif\u001b[0m \u001b[0mall\u001b[0m\u001b[1;33m(\u001b[0m\u001b[0mt\u001b[0m \u001b[1;32mis\u001b[0m \u001b[1;32mNone\u001b[0m \u001b[1;32mfor\u001b[0m \u001b[0mt\u001b[0m \u001b[1;32min\u001b[0m \u001b[0mflat_arrays\u001b[0m\u001b[1;33m)\u001b[0m\u001b[1;33m:\u001b[0m\u001b[1;33m\u001b[0m\u001b[1;33m\u001b[0m\u001b[0m\n",
      "\u001b[1;31mValueError\u001b[0m: `validation_split` is only supported for Tensors or NumPy arrays, found following types in the input: [<class 'scipy.sparse.csr.csr_matrix'>]"
     ]
    }
   ],
   "source": [
    "# fit the model\n",
    "batch_size=1024\n",
    "epochs=10\n",
    "X = [df_hybrid_train['User'], df_hybrid_train['Movie'], train_tfidf]\n",
    "y = df_hybrid_train['Rating']\n",
    "model.fit(X, y,\n",
    "          batch_size=batch_size, \n",
    "          epochs=epochs, ## Change the epochs to find better improved model.\n",
    "          validation_split=0.1,\n",
    "          shuffle=True\n",
    "         )"
   ]
  },
  {
   "cell_type": "code",
   "execution_count": 252,
   "metadata": {
    "colab": {
     "base_uri": "https://localhost:8080/",
     "height": 67
    },
    "colab_type": "code",
    "id": "ZLkTXmxhpK7r",
    "outputId": "4d99eaa3-5f84-4814-e083-a82058bacc68"
   },
   "outputs": [
    {
     "name": "stdout",
     "output_type": "stream",
     "text": [
      "\n",
      "\n",
      "Testing Result With DL Hybrid Recommender: 0.8299 RMSE\n"
     ]
    }
   ],
   "source": [
    "# create test input data and true outputs\n",
    "X_test = [df_hybrid_test['User'], df_hybrid_test['Movie'], test_tfidf]\n",
    "y_true = df_hybrid_test['Rating'].values \n",
    "\n",
    "# Test model by making predictions on test data\n",
    "y_pred = model.predict_on_batch(X_test).ravel()\n",
    "# clip upper and lower ratings\n",
    "y_pred = list(map(lambda x: 1.0 if x < 1 else 5.0 if x > 5.0 else x, y_pred))\n",
    "\n",
    "#  Compute RMSE\n",
    "rmse = np.sqrt(mean_squared_error(y_pred=y_pred, y_true=y_true))\n",
    "print('\\n\\nTesting Result With DL Hybrid Recommender: {:.4f} RMSE'.format(rmse))"
   ]
  },
  {
   "cell_type": "code",
   "execution_count": 263,
   "metadata": {
    "colab": {
     "base_uri": "https://localhost:8080/",
     "height": 639
    },
    "colab_type": "code",
    "id": "ecgDG4C9pLAG",
    "outputId": "e13970a0-c7a0-4b0d-d2f3-7d765e901881"
   },
   "outputs": [
    {
     "data": {
      "text/html": [
       "<div>\n",
       "<style scoped>\n",
       "    .dataframe tbody tr th:only-of-type {\n",
       "        vertical-align: middle;\n",
       "    }\n",
       "\n",
       "    .dataframe tbody tr th {\n",
       "        vertical-align: top;\n",
       "    }\n",
       "\n",
       "    .dataframe thead th {\n",
       "        text-align: right;\n",
       "    }\n",
       "</style>\n",
       "<table border=\"1\" class=\"dataframe\">\n",
       "  <thead>\n",
       "    <tr style=\"text-align: right;\">\n",
       "      <th></th>\n",
       "      <th>User ID</th>\n",
       "      <th>Movie ID</th>\n",
       "      <th>Movie Name</th>\n",
       "      <th>Predicted Rating</th>\n",
       "      <th>Actual Rating</th>\n",
       "    </tr>\n",
       "  </thead>\n",
       "  <tbody>\n",
       "    <tr>\n",
       "      <th>0</th>\n",
       "      <td>10564</td>\n",
       "      <td>1200</td>\n",
       "      <td>True Colors</td>\n",
       "      <td>4.2</td>\n",
       "      <td>4.0</td>\n",
       "    </tr>\n",
       "    <tr>\n",
       "      <th>1</th>\n",
       "      <td>2027</td>\n",
       "      <td>253</td>\n",
       "      <td>Westender</td>\n",
       "      <td>4.1</td>\n",
       "      <td>5.0</td>\n",
       "    </tr>\n",
       "    <tr>\n",
       "      <th>2</th>\n",
       "      <td>9409</td>\n",
       "      <td>808</td>\n",
       "      <td>Left Behind II: Tribulation Force</td>\n",
       "      <td>2.4</td>\n",
       "      <td>2.0</td>\n",
       "    </tr>\n",
       "    <tr>\n",
       "      <th>3</th>\n",
       "      <td>6339</td>\n",
       "      <td>181</td>\n",
       "      <td>Moby: Play</td>\n",
       "      <td>3.8</td>\n",
       "      <td>4.0</td>\n",
       "    </tr>\n",
       "    <tr>\n",
       "      <th>4</th>\n",
       "      <td>13679</td>\n",
       "      <td>578</td>\n",
       "      <td>The Autobiography of Miss Jane Pittman</td>\n",
       "      <td>3.4</td>\n",
       "      <td>5.0</td>\n",
       "    </tr>\n",
       "    <tr>\n",
       "      <th>5</th>\n",
       "      <td>8474</td>\n",
       "      <td>553</td>\n",
       "      <td>Solaris</td>\n",
       "      <td>3.7</td>\n",
       "      <td>5.0</td>\n",
       "    </tr>\n",
       "    <tr>\n",
       "      <th>6</th>\n",
       "      <td>10536</td>\n",
       "      <td>754</td>\n",
       "      <td>Music Box</td>\n",
       "      <td>3.8</td>\n",
       "      <td>4.0</td>\n",
       "    </tr>\n",
       "    <tr>\n",
       "      <th>7</th>\n",
       "      <td>11076</td>\n",
       "      <td>886</td>\n",
       "      <td>Monster-in-Law: Bonus Material</td>\n",
       "      <td>3.9</td>\n",
       "      <td>5.0</td>\n",
       "    </tr>\n",
       "    <tr>\n",
       "      <th>8</th>\n",
       "      <td>2895</td>\n",
       "      <td>273</td>\n",
       "      <td>Crazy as Hell</td>\n",
       "      <td>3.0</td>\n",
       "      <td>3.0</td>\n",
       "    </tr>\n",
       "    <tr>\n",
       "      <th>9</th>\n",
       "      <td>2568</td>\n",
       "      <td>166</td>\n",
       "      <td>The Chorus</td>\n",
       "      <td>3.1</td>\n",
       "      <td>3.0</td>\n",
       "    </tr>\n",
       "    <tr>\n",
       "      <th>10</th>\n",
       "      <td>12503</td>\n",
       "      <td>1367</td>\n",
       "      <td>Ozzy Osbourne: Double O: Unauthorized</td>\n",
       "      <td>2.1</td>\n",
       "      <td>3.0</td>\n",
       "    </tr>\n",
       "    <tr>\n",
       "      <th>11</th>\n",
       "      <td>7919</td>\n",
       "      <td>797</td>\n",
       "      <td>Jaws</td>\n",
       "      <td>3.9</td>\n",
       "      <td>4.0</td>\n",
       "    </tr>\n",
       "    <tr>\n",
       "      <th>12</th>\n",
       "      <td>20331</td>\n",
       "      <td>708</td>\n",
       "      <td>Africans in America: America's Journey Through...</td>\n",
       "      <td>3.2</td>\n",
       "      <td>3.0</td>\n",
       "    </tr>\n",
       "    <tr>\n",
       "      <th>13</th>\n",
       "      <td>11877</td>\n",
       "      <td>990</td>\n",
       "      <td>Burn Up Excess: Vol. 2: Crimes and Missed Deme...</td>\n",
       "      <td>4.9</td>\n",
       "      <td>5.0</td>\n",
       "    </tr>\n",
       "    <tr>\n",
       "      <th>14</th>\n",
       "      <td>17712</td>\n",
       "      <td>358</td>\n",
       "      <td>Absolutely Fabulous: Series 5</td>\n",
       "      <td>2.7</td>\n",
       "      <td>1.0</td>\n",
       "    </tr>\n",
       "    <tr>\n",
       "      <th>15</th>\n",
       "      <td>19098</td>\n",
       "      <td>433</td>\n",
       "      <td>Extreme Engineering: Tokyo's Sky City</td>\n",
       "      <td>3.6</td>\n",
       "      <td>5.0</td>\n",
       "    </tr>\n",
       "    <tr>\n",
       "      <th>16</th>\n",
       "      <td>7073</td>\n",
       "      <td>381</td>\n",
       "      <td>Buried in the Sand: The Deception of America</td>\n",
       "      <td>2.5</td>\n",
       "      <td>2.0</td>\n",
       "    </tr>\n",
       "    <tr>\n",
       "      <th>17</th>\n",
       "      <td>11685</td>\n",
       "      <td>934</td>\n",
       "      <td>Read Or Die</td>\n",
       "      <td>3.4</td>\n",
       "      <td>4.0</td>\n",
       "    </tr>\n",
       "    <tr>\n",
       "      <th>18</th>\n",
       "      <td>12521</td>\n",
       "      <td>353</td>\n",
       "      <td>Sadomania</td>\n",
       "      <td>3.6</td>\n",
       "      <td>3.0</td>\n",
       "    </tr>\n",
       "    <tr>\n",
       "      <th>19</th>\n",
       "      <td>13673</td>\n",
       "      <td>104</td>\n",
       "      <td>Obsessed</td>\n",
       "      <td>3.0</td>\n",
       "      <td>2.0</td>\n",
       "    </tr>\n",
       "  </tbody>\n",
       "</table>\n",
       "</div>"
      ],
      "text/plain": [
       "    User ID  Movie ID                                         Movie Name  \\\n",
       "0     10564      1200                                        True Colors   \n",
       "1      2027       253                                          Westender   \n",
       "2      9409       808                  Left Behind II: Tribulation Force   \n",
       "3      6339       181                                         Moby: Play   \n",
       "4     13679       578             The Autobiography of Miss Jane Pittman   \n",
       "5      8474       553                                            Solaris   \n",
       "6     10536       754                                          Music Box   \n",
       "7     11076       886                     Monster-in-Law: Bonus Material   \n",
       "8      2895       273                                      Crazy as Hell   \n",
       "9      2568       166                                         The Chorus   \n",
       "10    12503      1367              Ozzy Osbourne: Double O: Unauthorized   \n",
       "11     7919       797                                               Jaws   \n",
       "12    20331       708  Africans in America: America's Journey Through...   \n",
       "13    11877       990  Burn Up Excess: Vol. 2: Crimes and Missed Deme...   \n",
       "14    17712       358                      Absolutely Fabulous: Series 5   \n",
       "15    19098       433              Extreme Engineering: Tokyo's Sky City   \n",
       "16     7073       381       Buried in the Sand: The Deception of America   \n",
       "17    11685       934                                        Read Or Die   \n",
       "18    12521       353                                          Sadomania   \n",
       "19    13673       104                                           Obsessed   \n",
       "\n",
       "    Predicted Rating  Actual Rating  \n",
       "0                4.2            4.0  \n",
       "1                4.1            5.0  \n",
       "2                2.4            2.0  \n",
       "3                3.8            4.0  \n",
       "4                3.4            5.0  \n",
       "5                3.7            5.0  \n",
       "6                3.8            4.0  \n",
       "7                3.9            5.0  \n",
       "8                3.0            3.0  \n",
       "9                3.1            3.0  \n",
       "10               2.1            3.0  \n",
       "11               3.9            4.0  \n",
       "12               3.2            3.0  \n",
       "13               4.9            5.0  \n",
       "14               2.7            1.0  \n",
       "15               3.6            5.0  \n",
       "16               2.5            2.0  \n",
       "17               3.4            4.0  \n",
       "18               3.6            3.0  \n",
       "19               3.0            2.0  "
      ]
     },
     "execution_count": 263,
     "metadata": {},
     "output_type": "execute_result"
    }
   ],
   "source": [
    "## Let's see how our collaborative model performs by seeing the predicted and actual rating for the given user and movie pair\n",
    "results_df = pd.DataFrame({\n",
    "    'User ID': df_hybrid_test['User'].values,\n",
    "    'Movie ID': df_hybrid_test['Movie'].values,\n",
    "    'Movie Name': [movie_titles['Name'].iloc[item] for item in df_hybrid_test['Movie']],\n",
    "    'Predicted Rating': np.round(y_pred, 1),\n",
    "    'Actual Rating': y_true\n",
    "})\n",
    "\n",
    "results_df.head(20)"
   ]
  }
 ],
 "metadata": {
  "accelerator": "GPU",
  "colab": {
   "collapsed_sections": [],
   "machine_shape": "hm",
   "name": "Recommendation_Systems.ipynb",
   "provenance": []
  },
  "kernelspec": {
   "display_name": "Python 3 (ipykernel)",
   "language": "python",
   "name": "python3"
  },
  "language_info": {
   "codemirror_mode": {
    "name": "ipython",
    "version": 3
   },
   "file_extension": ".py",
   "mimetype": "text/x-python",
   "name": "python",
   "nbconvert_exporter": "python",
   "pygments_lexer": "ipython3",
   "version": "3.7.16"
  }
 },
 "nbformat": 4,
 "nbformat_minor": 4
}
